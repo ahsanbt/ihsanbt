{
  "cells": [
    {
      "cell_type": "markdown",
      "metadata": {},
      "source": [
        "# **Top Spotify Songs in 73 Countries - A complete EDA**\n",
        "---\n",
        "**Contributors:**\\\n",
        "Following members have contributed in the development of this notebook.\n",
        "1. Hassan Absar Qaimkhani\n",
        "2. Muhammad Ahsan Rabbi\n",
        "3. Muhammad Sheraz Aamir\n",
        "4. Muhammad Haseeb Abbasi\n",
        "5. Abdul Muid\n",
        "6. Muhammad Saqib\n",
        "---\n"
      ]
    },
    {
      "cell_type": "markdown",
      "metadata": {},
      "source": [
        "**Date:** 28-10-2023\n",
        "---"
      ]
    },
    {
      "cell_type": "markdown",
      "metadata": {},
      "source": [
        "## **DATA SET:**\n",
        "This data is collected from [kaggle.com](www.kaggle.com) and can be accessed from [here](https://www.kaggle.com/datasets/asaniczka/top-spotify-songs-in-73-countries-daily-updated).\\\n",
        "(**Note:** Since this data is updated on daily basis, it might be possible that data you find through this link is more recent and updated then the one used in this notebook. Therefore, link of the dataset used in this notebook can be accessed through this Google Drive [Link](https://drive.google.com/uc?id=1NASMtgbdCspPvjUPWAa-24z0qgQYYT7l).)\n",
        "### Author/Collaborator of Dataset: asaniczka ([kaggle account](https://www.kaggle.com/asaniczka))\n",
        "---\n",
        "\n",
        "### **General Information:**\n",
        "This dataset contains the Daily top 50 songs on Spotify for each country. The data is updated daily and includes various features such as song duration, artist details, album information, and song popularity.\n",
        "The dataset is divided into 40172 rows and 25 columns. Some main features of each column are as follows:\n",
        "1. `spotify_id`: It shows the unique idntifer for the song in the Spotify database.\n",
        "2. `name`: It shows the title of the song.\n",
        "3. `artists`: It shows the name(s) of the artist(s) asociated with he song. \n",
        "4. `daily_rank`: It shows the daily rank of the song amount the top 50 songs for this country.\n",
        "5. `daily_movement`: It shows the change in rankings compared to the previous day for the same country.\n",
        "6. `weekly_movement`: It shows the change in rankings compared to the previous week for the same country.\n",
        "7. `country`: It shows the ISO Code of the country. (If NULL,  then the playlist is 'Global'. Since Global doesn't have an ISO code, it is not put here.)\n",
        "8. `snapshot_date`: It shows the date onwhich the data was colleted from the Spotify API.\n",
        "9. `popularity`: It is a measure of the song's current popularity on Spotify.\n",
        "10. `is_explict`: It indicates whether the songcontains explicit lyrics.\n",
        "11. `duration_ms`: It gives the duration of the song in milliseconds.\n",
        "12. `album_name`: It gives the title of the album the song belongs to.\n",
        "13. `album_release_date`: It gives the release date of the album the song belongs to.\n",
        "14. `danceability`: It is a measure of how suitable the song is for dancing based on various musical elements.\n",
        "15. `energy`: measure of the intensity and activity level of the song.\n",
        "16. `key`: It highlights the key of the song.\n",
        "17. `loudness`: It gives the overall loudness of the song in decibels.\n",
        "18. `mode`: It indicates whether the song is in a major or minor key.\n",
        "19. `speechiness`: It is a measure of the presence ofspoken words inthe song.\n",
        "20. `acoustiness`: It is a measure of the acoustic quality of the song.\n",
        "21. `instrumentalness`: It is a measure of the likelihood that the song does not contain vocals.\n",
        "22. `liveness`: It is a measure of the prsence of a live audience in the recording.\n",
        "23. `valence`: It is a measure of the musical positiveness conveyed by the song.\n",
        "24. `tempo`: It gives the tempo of the song in beats per minute.\n",
        "25. `time_signature`: It indicates the estimated overall time signature of the song.\n",
        "---\n",
        "### **Provenance**:\n",
        "#### Source: \n",
        "Data was collected via the Spotify API.\n",
        "#### COLLECTION METHODOLOGY:\n",
        "Data is collected daily by querying the Spotify API for the top 50 songs for each country every day.\n",
        "\n",
        "---\n",
        "### **License:**\n",
        "License information about the dataset can be accessed from [ODC Attribution License (ODC-By)](https://opendatacommons.org/licenses/by/1-0/index.html)\n",
        "\n",
        "---\n"
      ]
    },
    {
      "cell_type": "markdown",
      "metadata": {
        "id": "IXvTs1AzBUdX"
      },
      "source": [
        "## Importing Important Liabraries\n",
        "Before starting the EDA analysis, important libraries are imported."
      ]
    },
    {
      "cell_type": "code",
      "execution_count": 270,
      "metadata": {
        "id": "dwYaKtPjBUdb"
      },
      "outputs": [],
      "source": [
        "# importing all liabraries that we will use in this EDA exercise.\n",
        "import pandas as pd\n",
        "import numpy as np\n",
        "import matplotlib.pyplot as plt\n",
        "import seaborn as sns\n",
        "import plotly.express as px"
      ]
    },
    {
      "cell_type": "markdown",
      "metadata": {
        "id": "Al6onOFLBUdc"
      },
      "source": [
        "## Settings\n",
        "Here are some important notebook settings that is used to assist at subsequent stages."
      ]
    },
    {
      "cell_type": "code",
      "execution_count": 271,
      "metadata": {
        "id": "JIe7TLhRBUdd"
      },
      "outputs": [],
      "source": [
        "# Since data can contain numberical values to be formated with thousands separators and decimals, the number formats are defined here\n",
        "# nf0 is number format with zero decimals and nf2 is number format with two decimals\n",
        "nf0 = lambda x: f'{x:,.0f}' if isinstance(x, (int, float)) else x\n",
        "nf2 = lambda x: f'{x:,.2f}' if isinstance(x, (int, float)) else x"
      ]
    },
    {
      "cell_type": "code",
      "execution_count": 272,
      "metadata": {
        "id": "ThPAxTLvBUdd"
      },
      "outputs": [],
      "source": [
        "# setting options to show maximum of row and columns\n",
        "pd.set_option('display.max_columns', None)\n",
        "pd.set_option('display.max_rows', None)"
      ]
    },
    {
      "cell_type": "code",
      "execution_count": 273,
      "metadata": {
        "id": "MqSso1kHBUde"
      },
      "outputs": [],
      "source": [
        "# disabling Warnings\n",
        "import warnings\n",
        "warnings.simplefilter(action='ignore')"
      ]
    },
    {
      "cell_type": "markdown",
      "metadata": {
        "id": "oLgUY0KnBUde"
      },
      "source": [
        "## Importing Dataset from Google Drive (Optional)"
      ]
    },
    {
      "cell_type": "code",
      "execution_count": 274,
      "metadata": {
        "colab": {
          "base_uri": "https://localhost:8080/"
        },
        "id": "GOMt0hmoFBQl",
        "outputId": "27683845-99a1-4f4f-90b6-15c9ed0ebbdf"
      },
      "outputs": [],
      "source": [
        "# #\n",
        "\n",
        "# !pip install gdown\n",
        "\n",
        "# import gdown\n",
        "\n",
        "# # Replace the link with your sharing link and specify the destination path\n",
        "# gdrive_file_url = \"https://drive.google.com/uc?id=1NASMtgbdCspPvjUPWAa-24z0qgQYYT7l\"\n",
        "# output_path = \"/content/05_universal_top_spotify_songs.csv\"  # You can specify your desired output path\n",
        "\n",
        "# # Download the file\n",
        "# gdown.download(gdrive_file_url, output_path, quiet=False)\n"
      ]
    },
    {
      "cell_type": "code",
      "execution_count": 275,
      "metadata": {
        "colab": {
          "base_uri": "https://localhost:8080/",
          "height": 338
        },
        "id": "KZyxgaGnBUdf",
        "outputId": "24a47ce3-a170-4e0c-c38e-7ac31903f0f8"
      },
      "outputs": [],
      "source": [
        "# importing dataset into df\n",
        "df = pd.read_csv('./universal_top_spotify_songs.csv')"
      ]
    },
    {
      "cell_type": "markdown",
      "metadata": {
        "id": "hdLe1GjsBUdf"
      },
      "source": [
        "## Data Overview"
      ]
    },
    {
      "cell_type": "code",
      "execution_count": 276,
      "metadata": {
        "id": "tT6cbfVNBUdg"
      },
      "outputs": [
        {
          "name": "stdout",
          "output_type": "stream",
          "text": [
            "Rows= 40172\n",
            "Columns= 25\n",
            "Size= 1004300\n"
          ]
        }
      ],
      "source": [
        "# no of rows, columns, and cells in the data\n",
        "print(\"Rows=\",len(df))\n",
        "print(\"Columns=\",len(df.columns))\n",
        "print(\"Size=\",df.size)"
      ]
    },
    {
      "cell_type": "code",
      "execution_count": 277,
      "metadata": {
        "id": "nocjYBVMBUdg"
      },
      "outputs": [
        {
          "name": "stdout",
          "output_type": "stream",
          "text": [
            "<class 'pandas.core.frame.DataFrame'>\n",
            "RangeIndex: 40172 entries, 0 to 40171\n",
            "Data columns (total 25 columns):\n",
            " #   Column              Non-Null Count  Dtype  \n",
            "---  ------              --------------  -----  \n",
            " 0   spotify_id          40172 non-null  object \n",
            " 1   name                40171 non-null  object \n",
            " 2   artists             40171 non-null  object \n",
            " 3   daily_rank          40172 non-null  int64  \n",
            " 4   daily_movement      40172 non-null  int64  \n",
            " 5   weekly_movement     40172 non-null  int64  \n",
            " 6   country             39620 non-null  object \n",
            " 7   snapshot_date       40172 non-null  object \n",
            " 8   popularity          40172 non-null  int64  \n",
            " 9   is_explicit         40172 non-null  bool   \n",
            " 10  duration_ms         40172 non-null  int64  \n",
            " 11  album_name          40171 non-null  object \n",
            " 12  album_release_date  40171 non-null  object \n",
            " 13  danceability        40172 non-null  float64\n",
            " 14  energy              40172 non-null  float64\n",
            " 15  key                 40172 non-null  int64  \n",
            " 16  loudness            40172 non-null  float64\n",
            " 17  mode                40172 non-null  int64  \n",
            " 18  speechiness         40172 non-null  float64\n",
            " 19  acousticness        40172 non-null  float64\n",
            " 20  instrumentalness    40172 non-null  float64\n",
            " 21  liveness            40172 non-null  float64\n",
            " 22  valence             40172 non-null  float64\n",
            " 23  tempo               40172 non-null  float64\n",
            " 24  time_signature      40172 non-null  int64  \n",
            "dtypes: bool(1), float64(9), int64(8), object(7)\n",
            "memory usage: 7.4+ MB\n"
          ]
        }
      ],
      "source": [
        "df.info()"
      ]
    },
    {
      "cell_type": "markdown",
      "metadata": {
        "id": "q5u-5sZ_BUdh"
      },
      "source": [
        "## Checking Null Values"
      ]
    },
    {
      "cell_type": "code",
      "execution_count": 278,
      "metadata": {
        "id": "erxZoFYABUdh"
      },
      "outputs": [
        {
          "name": "stdout",
          "output_type": "stream",
          "text": [
            "                    Null Count Percentage\n",
            "name                         1       0.00\n",
            "artists                      1       0.00\n",
            "country                    552       1.37\n",
            "album_name                   1       0.00\n",
            "album_release_date           1       0.00\n"
          ]
        }
      ],
      "source": [
        "# checking columns where Null values exists\n",
        "null_count=df.isnull().sum()\n",
        "null_percent=df.isnull().sum()*100/len(df)\n",
        "df_a=pd.concat([null_count, null_percent.map(nf2)], axis=1)\n",
        "# naming columns\n",
        "df_a.columns = ['Null Count', 'Percentage']\n",
        "df_a=df_a[df_a['Null Count']>0]\n",
        "print(df_a)"
      ]
    },
    {
      "cell_type": "markdown",
      "metadata": {
        "id": "cHgpMwaCBUdh"
      },
      "source": [
        "## Checking Duplicate Values"
      ]
    },
    {
      "cell_type": "code",
      "execution_count": 279,
      "metadata": {
        "id": "2UhPonfCBUdi"
      },
      "outputs": [
        {
          "data": {
            "text/plain": [
              "False    40172\n",
              "Name: count, dtype: int64"
            ]
          },
          "execution_count": 279,
          "metadata": {},
          "output_type": "execute_result"
        }
      ],
      "source": [
        "# checking duplicate rows\n",
        "df.duplicated().value_counts()"
      ]
    },
    {
      "cell_type": "markdown",
      "metadata": {
        "id": "nMLyEy2HBUdi"
      },
      "source": [
        "## Checking Vital Statistics"
      ]
    },
    {
      "cell_type": "code",
      "execution_count": 280,
      "metadata": {
        "id": "XR1kLJvbBUdj"
      },
      "outputs": [
        {
          "data": {
            "text/html": [
              "<div>\n",
              "<style scoped>\n",
              "    .dataframe tbody tr th:only-of-type {\n",
              "        vertical-align: middle;\n",
              "    }\n",
              "\n",
              "    .dataframe tbody tr th {\n",
              "        vertical-align: top;\n",
              "    }\n",
              "\n",
              "    .dataframe thead th {\n",
              "        text-align: right;\n",
              "    }\n",
              "</style>\n",
              "<table border=\"1\" class=\"dataframe\">\n",
              "  <thead>\n",
              "    <tr style=\"text-align: right;\">\n",
              "      <th></th>\n",
              "      <th>daily_rank</th>\n",
              "      <th>daily_movement</th>\n",
              "      <th>weekly_movement</th>\n",
              "      <th>popularity</th>\n",
              "      <th>duration_ms</th>\n",
              "      <th>danceability</th>\n",
              "      <th>energy</th>\n",
              "      <th>key</th>\n",
              "      <th>loudness</th>\n",
              "      <th>mode</th>\n",
              "      <th>speechiness</th>\n",
              "      <th>acousticness</th>\n",
              "      <th>instrumentalness</th>\n",
              "      <th>liveness</th>\n",
              "      <th>valence</th>\n",
              "      <th>tempo</th>\n",
              "      <th>time_signature</th>\n",
              "    </tr>\n",
              "  </thead>\n",
              "  <tbody>\n",
              "    <tr>\n",
              "      <th>count</th>\n",
              "      <td>40,172.00</td>\n",
              "      <td>40,172.00</td>\n",
              "      <td>40,172.00</td>\n",
              "      <td>40,172.00</td>\n",
              "      <td>40,172.00</td>\n",
              "      <td>40,172.00</td>\n",
              "      <td>40,172.00</td>\n",
              "      <td>40,172.00</td>\n",
              "      <td>40,172.00</td>\n",
              "      <td>40,172.00</td>\n",
              "      <td>40,172.00</td>\n",
              "      <td>40,172.00</td>\n",
              "      <td>40,172.00</td>\n",
              "      <td>40,172.00</td>\n",
              "      <td>40,172.00</td>\n",
              "      <td>40,172.00</td>\n",
              "      <td>40,172.00</td>\n",
              "    </tr>\n",
              "    <tr>\n",
              "      <th>mean</th>\n",
              "      <td>25.51</td>\n",
              "      <td>2.41</td>\n",
              "      <td>13.72</td>\n",
              "      <td>78.57</td>\n",
              "      <td>194,697.50</td>\n",
              "      <td>0.69</td>\n",
              "      <td>0.65</td>\n",
              "      <td>5.54</td>\n",
              "      <td>-6.63</td>\n",
              "      <td>0.49</td>\n",
              "      <td>0.11</td>\n",
              "      <td>0.29</td>\n",
              "      <td>0.02</td>\n",
              "      <td>0.17</td>\n",
              "      <td>0.53</td>\n",
              "      <td>122.12</td>\n",
              "      <td>3.91</td>\n",
              "    </tr>\n",
              "    <tr>\n",
              "      <th>std</th>\n",
              "      <td>14.44</td>\n",
              "      <td>9.18</td>\n",
              "      <td>16.86</td>\n",
              "      <td>15.26</td>\n",
              "      <td>49,500.08</td>\n",
              "      <td>0.14</td>\n",
              "      <td>0.16</td>\n",
              "      <td>3.47</td>\n",
              "      <td>2.65</td>\n",
              "      <td>0.50</td>\n",
              "      <td>0.10</td>\n",
              "      <td>0.25</td>\n",
              "      <td>0.10</td>\n",
              "      <td>0.12</td>\n",
              "      <td>0.23</td>\n",
              "      <td>27.67</td>\n",
              "      <td>0.43</td>\n",
              "    </tr>\n",
              "    <tr>\n",
              "      <th>min</th>\n",
              "      <td>1.00</td>\n",
              "      <td>-38.00</td>\n",
              "      <td>-36.00</td>\n",
              "      <td>0.00</td>\n",
              "      <td>0.00</td>\n",
              "      <td>0.22</td>\n",
              "      <td>0.02</td>\n",
              "      <td>0.00</td>\n",
              "      <td>-22.50</td>\n",
              "      <td>0.00</td>\n",
              "      <td>0.02</td>\n",
              "      <td>0.00</td>\n",
              "      <td>0.00</td>\n",
              "      <td>0.02</td>\n",
              "      <td>0.04</td>\n",
              "      <td>47.91</td>\n",
              "      <td>1.00</td>\n",
              "    </tr>\n",
              "    <tr>\n",
              "      <th>25%</th>\n",
              "      <td>13.00</td>\n",
              "      <td>-1.00</td>\n",
              "      <td>0.00</td>\n",
              "      <td>67.00</td>\n",
              "      <td>162,767.00</td>\n",
              "      <td>0.60</td>\n",
              "      <td>0.55</td>\n",
              "      <td>2.00</td>\n",
              "      <td>-8.03</td>\n",
              "      <td>0.00</td>\n",
              "      <td>0.04</td>\n",
              "      <td>0.09</td>\n",
              "      <td>0.00</td>\n",
              "      <td>0.10</td>\n",
              "      <td>0.36</td>\n",
              "      <td>99.97</td>\n",
              "      <td>4.00</td>\n",
              "    </tr>\n",
              "    <tr>\n",
              "      <th>50%</th>\n",
              "      <td>25.00</td>\n",
              "      <td>0.00</td>\n",
              "      <td>8.00</td>\n",
              "      <td>83.00</td>\n",
              "      <td>188,108.00</td>\n",
              "      <td>0.71</td>\n",
              "      <td>0.67</td>\n",
              "      <td>6.00</td>\n",
              "      <td>-6.21</td>\n",
              "      <td>0.00</td>\n",
              "      <td>0.07</td>\n",
              "      <td>0.21</td>\n",
              "      <td>0.00</td>\n",
              "      <td>0.12</td>\n",
              "      <td>0.52</td>\n",
              "      <td>120.03</td>\n",
              "      <td>4.00</td>\n",
              "    </tr>\n",
              "    <tr>\n",
              "      <th>75%</th>\n",
              "      <td>38.00</td>\n",
              "      <td>2.00</td>\n",
              "      <td>27.00</td>\n",
              "      <td>90.00</td>\n",
              "      <td>220,653.00</td>\n",
              "      <td>0.80</td>\n",
              "      <td>0.75</td>\n",
              "      <td>9.00</td>\n",
              "      <td>-4.91</td>\n",
              "      <td>1.00</td>\n",
              "      <td>0.14</td>\n",
              "      <td>0.46</td>\n",
              "      <td>0.00</td>\n",
              "      <td>0.21</td>\n",
              "      <td>0.71</td>\n",
              "      <td>140.06</td>\n",
              "      <td>4.00</td>\n",
              "    </tr>\n",
              "    <tr>\n",
              "      <th>max</th>\n",
              "      <td>50.00</td>\n",
              "      <td>49.00</td>\n",
              "      <td>49.00</td>\n",
              "      <td>100.00</td>\n",
              "      <td>641,941.00</td>\n",
              "      <td>0.97</td>\n",
              "      <td>1.00</td>\n",
              "      <td>11.00</td>\n",
              "      <td>1.16</td>\n",
              "      <td>1.00</td>\n",
              "      <td>0.78</td>\n",
              "      <td>0.98</td>\n",
              "      <td>0.97</td>\n",
              "      <td>0.97</td>\n",
              "      <td>0.98</td>\n",
              "      <td>217.97</td>\n",
              "      <td>5.00</td>\n",
              "    </tr>\n",
              "  </tbody>\n",
              "</table>\n",
              "</div>"
            ],
            "text/plain": [
              "      daily_rank daily_movement weekly_movement popularity duration_ms  \\\n",
              "count  40,172.00      40,172.00       40,172.00  40,172.00   40,172.00   \n",
              "mean       25.51           2.41           13.72      78.57  194,697.50   \n",
              "std        14.44           9.18           16.86      15.26   49,500.08   \n",
              "min         1.00         -38.00          -36.00       0.00        0.00   \n",
              "25%        13.00          -1.00            0.00      67.00  162,767.00   \n",
              "50%        25.00           0.00            8.00      83.00  188,108.00   \n",
              "75%        38.00           2.00           27.00      90.00  220,653.00   \n",
              "max        50.00          49.00           49.00     100.00  641,941.00   \n",
              "\n",
              "      danceability     energy        key   loudness       mode speechiness  \\\n",
              "count    40,172.00  40,172.00  40,172.00  40,172.00  40,172.00   40,172.00   \n",
              "mean          0.69       0.65       5.54      -6.63       0.49        0.11   \n",
              "std           0.14       0.16       3.47       2.65       0.50        0.10   \n",
              "min           0.22       0.02       0.00     -22.50       0.00        0.02   \n",
              "25%           0.60       0.55       2.00      -8.03       0.00        0.04   \n",
              "50%           0.71       0.67       6.00      -6.21       0.00        0.07   \n",
              "75%           0.80       0.75       9.00      -4.91       1.00        0.14   \n",
              "max           0.97       1.00      11.00       1.16       1.00        0.78   \n",
              "\n",
              "      acousticness instrumentalness   liveness    valence      tempo  \\\n",
              "count    40,172.00        40,172.00  40,172.00  40,172.00  40,172.00   \n",
              "mean          0.29             0.02       0.17       0.53     122.12   \n",
              "std           0.25             0.10       0.12       0.23      27.67   \n",
              "min           0.00             0.00       0.02       0.04      47.91   \n",
              "25%           0.09             0.00       0.10       0.36      99.97   \n",
              "50%           0.21             0.00       0.12       0.52     120.03   \n",
              "75%           0.46             0.00       0.21       0.71     140.06   \n",
              "max           0.98             0.97       0.97       0.98     217.97   \n",
              "\n",
              "      time_signature  \n",
              "count      40,172.00  \n",
              "mean            3.91  \n",
              "std             0.43  \n",
              "min             1.00  \n",
              "25%             4.00  \n",
              "50%             4.00  \n",
              "75%             4.00  \n",
              "max             5.00  "
            ]
          },
          "execution_count": 280,
          "metadata": {},
          "output_type": "execute_result"
        }
      ],
      "source": [
        "# checking vitak statistics of df\n",
        "df_a=df.describe()\n",
        "df_a.map(nf2)\n"
      ]
    },
    {
      "cell_type": "markdown",
      "metadata": {
        "id": "Ib1T_kAVBUdj"
      },
      "source": [
        "## Examining Anomaly"
      ]
    },
    {
      "cell_type": "code",
      "execution_count": 281,
      "metadata": {
        "id": "y4tHqin0BUdk"
      },
      "outputs": [
        {
          "data": {
            "text/html": [
              "<div>\n",
              "<style scoped>\n",
              "    .dataframe tbody tr th:only-of-type {\n",
              "        vertical-align: middle;\n",
              "    }\n",
              "\n",
              "    .dataframe tbody tr th {\n",
              "        vertical-align: top;\n",
              "    }\n",
              "\n",
              "    .dataframe thead th {\n",
              "        text-align: right;\n",
              "    }\n",
              "</style>\n",
              "<table border=\"1\" class=\"dataframe\">\n",
              "  <thead>\n",
              "    <tr style=\"text-align: right;\">\n",
              "      <th></th>\n",
              "      <th>spotify_id</th>\n",
              "      <th>name</th>\n",
              "      <th>artists</th>\n",
              "      <th>daily_rank</th>\n",
              "      <th>daily_movement</th>\n",
              "      <th>weekly_movement</th>\n",
              "      <th>country</th>\n",
              "      <th>snapshot_date</th>\n",
              "      <th>popularity</th>\n",
              "      <th>is_explicit</th>\n",
              "      <th>duration_ms</th>\n",
              "      <th>album_name</th>\n",
              "      <th>album_release_date</th>\n",
              "      <th>danceability</th>\n",
              "      <th>energy</th>\n",
              "      <th>key</th>\n",
              "      <th>loudness</th>\n",
              "      <th>mode</th>\n",
              "      <th>speechiness</th>\n",
              "      <th>acousticness</th>\n",
              "      <th>instrumentalness</th>\n",
              "      <th>liveness</th>\n",
              "      <th>valence</th>\n",
              "      <th>tempo</th>\n",
              "      <th>time_signature</th>\n",
              "    </tr>\n",
              "  </thead>\n",
              "  <tbody>\n",
              "    <tr>\n",
              "      <th>26982</th>\n",
              "      <td>6yxtsR3nc3aUL1wcbLn8A3</td>\n",
              "      <td>NaN</td>\n",
              "      <td>NaN</td>\n",
              "      <td>30</td>\n",
              "      <td>1</td>\n",
              "      <td>20</td>\n",
              "      <td>NG</td>\n",
              "      <td>2023-10-21</td>\n",
              "      <td>0</td>\n",
              "      <td>False</td>\n",
              "      <td>0</td>\n",
              "      <td>NaN</td>\n",
              "      <td>NaN</td>\n",
              "      <td>0.791</td>\n",
              "      <td>0.515</td>\n",
              "      <td>1</td>\n",
              "      <td>-8.178</td>\n",
              "      <td>0</td>\n",
              "      <td>0.168</td>\n",
              "      <td>0.554</td>\n",
              "      <td>0.288</td>\n",
              "      <td>0.0821</td>\n",
              "      <td>0.507</td>\n",
              "      <td>102.932</td>\n",
              "      <td>4</td>\n",
              "    </tr>\n",
              "  </tbody>\n",
              "</table>\n",
              "</div>"
            ],
            "text/plain": [
              "                   spotify_id name artists  daily_rank  daily_movement  \\\n",
              "26982  6yxtsR3nc3aUL1wcbLn8A3  NaN     NaN          30               1   \n",
              "\n",
              "       weekly_movement country snapshot_date  popularity  is_explicit  \\\n",
              "26982               20      NG    2023-10-21           0        False   \n",
              "\n",
              "       duration_ms album_name album_release_date  danceability  energy  key  \\\n",
              "26982            0        NaN                NaN         0.791   0.515    1   \n",
              "\n",
              "       loudness  mode  speechiness  acousticness  instrumentalness  liveness  \\\n",
              "26982    -8.178     0        0.168         0.554             0.288    0.0821   \n",
              "\n",
              "       valence    tempo  time_signature  \n",
              "26982    0.507  102.932               4  "
            ]
          },
          "execution_count": 281,
          "metadata": {},
          "output_type": "execute_result"
        }
      ],
      "source": [
        "# song whose duration_ms ==0\n",
        "df[df['duration_ms']==0]"
      ]
    },
    {
      "cell_type": "markdown",
      "metadata": {
        "id": "Yobapy-TBUdk"
      },
      "source": [
        "## Excluding Anomaly From the Dataframe"
      ]
    },
    {
      "cell_type": "code",
      "execution_count": 282,
      "metadata": {
        "id": "pW-yc8vJBUdk"
      },
      "outputs": [],
      "source": [
        "# modifying the df to exclude song whose duration_ms ==0\n",
        "df=df[df['duration_ms']!=0]"
      ]
    },
    {
      "cell_type": "markdown",
      "metadata": {
        "id": "wcbgJCJ7BUdk"
      },
      "source": [
        "## Dealing with Null Values"
      ]
    },
    {
      "cell_type": "code",
      "execution_count": 283,
      "metadata": {
        "id": "W7B2n8nxBUdk"
      },
      "outputs": [],
      "source": [
        "# replacing missing values in country will GL\n",
        "df['country'].fillna('GLO', inplace=True)"
      ]
    },
    {
      "cell_type": "markdown",
      "metadata": {
        "id": "xlWvOqRJBUdl"
      },
      "source": [
        "## Converting ISO Codes into Country Names"
      ]
    },
    {
      "cell_type": "code",
      "execution_count": 284,
      "metadata": {
        "id": "zWqyZG9-BUdl"
      },
      "outputs": [],
      "source": [
        "# inserting new column of countries name\n",
        "df_a = {\n",
        "    'AE': 'United Arab Emirates',\n",
        "    'AR': 'Argentina',\n",
        "    'AT': 'Austria',\n",
        "    'AU': 'Australia',\n",
        "    'BE': 'Belgium',\n",
        "    'BG': 'Bulgaria',\n",
        "    'BO': 'Bolivia',\n",
        "    'BR': 'Brazil',\n",
        "    'BY': 'Belarus',\n",
        "    'CA': 'Canada',\n",
        "    'CH': 'Switzerland',\n",
        "    'CL': 'Chile',\n",
        "    'CO': 'Colombia',\n",
        "    'CR': 'Costa Rica',\n",
        "    'CZ': 'Czech Republic',\n",
        "    'DE': 'Germany',\n",
        "    'DK': 'Denmark',\n",
        "    'DO': 'Dominican Republic',\n",
        "    'EC': 'Ecuador',\n",
        "    'EE': 'Estonia',\n",
        "    'EG': 'Egypt',\n",
        "    'ES': 'Spain',\n",
        "    'FI': 'Finland',\n",
        "    'FR': 'France',\n",
        "    'GB': 'United Kingdom',\n",
        "    'GR': 'Greece',\n",
        "    'GT': 'Guatemala',\n",
        "    'HK': 'Hong Kong',\n",
        "    'HN': 'Honduras',\n",
        "    'HU': 'Hungary',\n",
        "    'ID': 'Indonesia',\n",
        "    'IE': 'Ireland',\n",
        "    'IL': 'Israel',\n",
        "    'IN': 'India',\n",
        "    'IS': 'Iceland',\n",
        "    'IT': 'Italy',\n",
        "    'JP': 'Japan',\n",
        "    'KR': 'South Korea',\n",
        "    'KZ': 'Kazakhstan',\n",
        "    'LT': 'Lithuania',\n",
        "    'LU': 'Luxembourg',\n",
        "    'LV': 'Latvia',\n",
        "    'MA': 'Morocco',\n",
        "    'MX': 'Mexico',\n",
        "    'MY': 'Malaysia',\n",
        "    'NG': 'Nigeria',\n",
        "    'NI': 'Nicaragua',\n",
        "    'NL': 'Netherlands',\n",
        "    'NO': 'Norway',\n",
        "    'NZ': 'New Zealand',\n",
        "    'PA': 'Panama',\n",
        "    'PE': 'Peru',\n",
        "    'PH': 'Philippines',\n",
        "    'PK': 'Pakistan',\n",
        "    'PL': 'Poland',\n",
        "    'PT': 'Portugal',\n",
        "    'PY': 'Paraguay',\n",
        "    'RO': 'Romania',\n",
        "    'SA': 'Saudi Arabia',\n",
        "    'SE': 'Sweden',\n",
        "    'SG': 'Singapore',\n",
        "    'SK': 'Slovakia',\n",
        "    'SV': 'El Salvador',\n",
        "    'TH': 'Thailand',\n",
        "    'TR': 'Turkey',\n",
        "    'TW': 'Taiwan',\n",
        "    'UA': 'Ukraine',\n",
        "    'US': 'United States',\n",
        "    'UY': 'Uruguay',\n",
        "    'VE': 'Venezuela',\n",
        "    'VN': 'Vietnam',\n",
        "    'ZA': 'South Africa',\n",
        "    'GLO': 'Global'\n",
        "}\n",
        "\n",
        "# Create the 'country_name' column by mapping 'country' to ISO codes\n",
        "df['country_name'] = df['country'].map(df_a)\n"
      ]
    },
    {
      "cell_type": "markdown",
      "metadata": {
        "id": "MS1LLf1TBUdl"
      },
      "source": [
        "## Converting ISO Codes into Continent Names"
      ]
    },
    {
      "cell_type": "code",
      "execution_count": 285,
      "metadata": {
        "id": "JaqBNR7yBUdl"
      },
      "outputs": [],
      "source": [
        "# Create a dictionary to map countries to continents\n",
        "df_a = {\n",
        "    'AE': 'Asia',\n",
        "    'AR': 'South America',\n",
        "    'AT': 'Europe',\n",
        "    'AU': 'Australia',\n",
        "    'BE': 'Europe',\n",
        "    'BG': 'Europe',\n",
        "    'BO': 'South America',\n",
        "    'BR': 'South America',\n",
        "    'BY': 'Europe',\n",
        "    'CA': 'North America',\n",
        "    'CH': 'Europe',\n",
        "    'CL': 'South America',\n",
        "    'CO': 'South America',\n",
        "    'CR': 'North America',\n",
        "    'CZ': 'Europe',\n",
        "    'DE': 'Europe',\n",
        "    'DK': 'Europe',\n",
        "    'DO': 'North America',\n",
        "    'EC': 'South America',\n",
        "    'EE': 'Europe',\n",
        "    'EG': 'Africa',\n",
        "    'ES': 'Europe',\n",
        "    'FI': 'Europe',\n",
        "    'FR': 'Europe',\n",
        "    'GB': 'Europe',\n",
        "    'GR': 'Europe',\n",
        "    'GT': 'North America',\n",
        "    'HK': 'Asia',\n",
        "    'HN': 'North America',\n",
        "    'HU': 'Europe',\n",
        "    'ID': 'Asia',\n",
        "    'IE': 'Europe',\n",
        "    'IL': 'Asia',\n",
        "    'IN': 'Asia',\n",
        "    'IS': 'Europe',\n",
        "    'IT': 'Europe',\n",
        "    'JP': 'Asia',\n",
        "    'KR': 'Asia',\n",
        "    'KZ': 'Asia',\n",
        "    'LT': 'Europe',\n",
        "    'LU': 'Europe',\n",
        "    'LV': 'Europe',\n",
        "    'MA': 'Africa',\n",
        "    'MX': 'North America',\n",
        "    'MY': 'Asia',\n",
        "    'NG': 'Africa',\n",
        "    'NI': 'North America',\n",
        "    'NL': 'Europe',\n",
        "    'NO': 'Europe',\n",
        "    'NZ': 'Australia',\n",
        "    'PA': 'North America',\n",
        "    'PE': 'South America',\n",
        "    'PH': 'Asia',\n",
        "    'PK': 'Asia',\n",
        "    'PL': 'Europe',\n",
        "    'PT': 'Europe',\n",
        "    'PY': 'South America',\n",
        "    'RO': 'Europe',\n",
        "    'SA': 'Asia',\n",
        "    'SE': 'Europe',\n",
        "    'SG': 'Asia',\n",
        "    'SK': 'Europe',\n",
        "    'SV': 'North America',\n",
        "    'TH': 'Asia',\n",
        "    'TR': 'Asia',\n",
        "    'TW': 'Asia',\n",
        "    'UA': 'Europe',\n",
        "    'US': 'North America',\n",
        "    'UY': 'South America',\n",
        "    'VE': 'South America',\n",
        "    'VN': 'Asia',\n",
        "    'ZA': 'Africa',\n",
        "    'GLO': 'Global'\n",
        "}\n",
        "\n",
        "# Create the 'continent' column by mapping 'country' to continents\n",
        "df['continent'] = df['country'].map(df_a)\n"
      ]
    },
    {
      "cell_type": "code",
      "execution_count": 286,
      "metadata": {
        "id": "TGxhb0VpBUdl"
      },
      "outputs": [
        {
          "data": {
            "text/html": [
              "<div>\n",
              "<style scoped>\n",
              "    .dataframe tbody tr th:only-of-type {\n",
              "        vertical-align: middle;\n",
              "    }\n",
              "\n",
              "    .dataframe tbody tr th {\n",
              "        vertical-align: top;\n",
              "    }\n",
              "\n",
              "    .dataframe thead th {\n",
              "        text-align: right;\n",
              "    }\n",
              "</style>\n",
              "<table border=\"1\" class=\"dataframe\">\n",
              "  <thead>\n",
              "    <tr style=\"text-align: right;\">\n",
              "      <th></th>\n",
              "      <th>spotify_id</th>\n",
              "      <th>name</th>\n",
              "      <th>artists</th>\n",
              "      <th>daily_rank</th>\n",
              "      <th>daily_movement</th>\n",
              "      <th>weekly_movement</th>\n",
              "      <th>country</th>\n",
              "      <th>snapshot_date</th>\n",
              "      <th>popularity</th>\n",
              "      <th>is_explicit</th>\n",
              "      <th>duration_ms</th>\n",
              "      <th>album_name</th>\n",
              "      <th>album_release_date</th>\n",
              "      <th>danceability</th>\n",
              "      <th>energy</th>\n",
              "      <th>key</th>\n",
              "      <th>loudness</th>\n",
              "      <th>mode</th>\n",
              "      <th>speechiness</th>\n",
              "      <th>acousticness</th>\n",
              "      <th>instrumentalness</th>\n",
              "      <th>liveness</th>\n",
              "      <th>valence</th>\n",
              "      <th>tempo</th>\n",
              "      <th>time_signature</th>\n",
              "      <th>country_name</th>\n",
              "      <th>continent</th>\n",
              "    </tr>\n",
              "  </thead>\n",
              "  <tbody>\n",
              "    <tr>\n",
              "      <th>30709</th>\n",
              "      <td>7ABLbnD53cQK00mhcaOUVG</td>\n",
              "      <td>LALA</td>\n",
              "      <td>Myke Towers</td>\n",
              "      <td>12</td>\n",
              "      <td>1</td>\n",
              "      <td>38</td>\n",
              "      <td>MX</td>\n",
              "      <td>2023-10-20</td>\n",
              "      <td>98</td>\n",
              "      <td>True</td>\n",
              "      <td>197920</td>\n",
              "      <td>LA VIDA ES UNA</td>\n",
              "      <td>2023-03-23</td>\n",
              "      <td>0.708</td>\n",
              "      <td>0.737</td>\n",
              "      <td>1</td>\n",
              "      <td>-4.045</td>\n",
              "      <td>1</td>\n",
              "      <td>0.0436</td>\n",
              "      <td>0.07390</td>\n",
              "      <td>0.00162</td>\n",
              "      <td>0.0955</td>\n",
              "      <td>0.607</td>\n",
              "      <td>91.986</td>\n",
              "      <td>4</td>\n",
              "      <td>Mexico</td>\n",
              "      <td>North America</td>\n",
              "    </tr>\n",
              "    <tr>\n",
              "      <th>21597</th>\n",
              "      <td>2pidGuLSSVZPcbzE5QA1Ux</td>\n",
              "      <td>Elevador - Ao Vivo</td>\n",
              "      <td>Hugo &amp; Guilherme</td>\n",
              "      <td>45</td>\n",
              "      <td>5</td>\n",
              "      <td>5</td>\n",
              "      <td>BR</td>\n",
              "      <td>2023-10-23</td>\n",
              "      <td>82</td>\n",
              "      <td>False</td>\n",
              "      <td>155767</td>\n",
              "      <td>Original (Ao Vivo)</td>\n",
              "      <td>2023-06-07</td>\n",
              "      <td>0.715</td>\n",
              "      <td>0.729</td>\n",
              "      <td>2</td>\n",
              "      <td>-4.587</td>\n",
              "      <td>1</td>\n",
              "      <td>0.0471</td>\n",
              "      <td>0.49800</td>\n",
              "      <td>0.00000</td>\n",
              "      <td>0.1640</td>\n",
              "      <td>0.717</td>\n",
              "      <td>132.012</td>\n",
              "      <td>4</td>\n",
              "      <td>Brazil</td>\n",
              "      <td>South America</td>\n",
              "    </tr>\n",
              "    <tr>\n",
              "      <th>6121</th>\n",
              "      <td>5mjYQaktjmjcMKcUIcqz4s</td>\n",
              "      <td>Strangers</td>\n",
              "      <td>Kenya Grace</td>\n",
              "      <td>41</td>\n",
              "      <td>-2</td>\n",
              "      <td>-9</td>\n",
              "      <td>GR</td>\n",
              "      <td>2023-10-27</td>\n",
              "      <td>98</td>\n",
              "      <td>False</td>\n",
              "      <td>172964</td>\n",
              "      <td>Strangers</td>\n",
              "      <td>2023-09-01</td>\n",
              "      <td>0.628</td>\n",
              "      <td>0.523</td>\n",
              "      <td>11</td>\n",
              "      <td>-8.307</td>\n",
              "      <td>0</td>\n",
              "      <td>0.0946</td>\n",
              "      <td>0.70100</td>\n",
              "      <td>0.00274</td>\n",
              "      <td>0.2190</td>\n",
              "      <td>0.416</td>\n",
              "      <td>169.982</td>\n",
              "      <td>4</td>\n",
              "      <td>Greece</td>\n",
              "      <td>Europe</td>\n",
              "    </tr>\n",
              "    <tr>\n",
              "      <th>24423</th>\n",
              "      <td>6vHkJ4L8gqCwedvhXkSCsa</td>\n",
              "      <td>The Magic Key</td>\n",
              "      <td>Trinix, One-T</td>\n",
              "      <td>21</td>\n",
              "      <td>1</td>\n",
              "      <td>29</td>\n",
              "      <td>FR</td>\n",
              "      <td>2023-10-22</td>\n",
              "      <td>76</td>\n",
              "      <td>False</td>\n",
              "      <td>171211</td>\n",
              "      <td>The Magic Key</td>\n",
              "      <td>2023-04-07</td>\n",
              "      <td>0.890</td>\n",
              "      <td>0.725</td>\n",
              "      <td>3</td>\n",
              "      <td>-5.213</td>\n",
              "      <td>1</td>\n",
              "      <td>0.0469</td>\n",
              "      <td>0.00989</td>\n",
              "      <td>0.00153</td>\n",
              "      <td>0.0954</td>\n",
              "      <td>0.762</td>\n",
              "      <td>122.004</td>\n",
              "      <td>4</td>\n",
              "      <td>France</td>\n",
              "      <td>Europe</td>\n",
              "    </tr>\n",
              "    <tr>\n",
              "      <th>20390</th>\n",
              "      <td>7xxmW8ieHp9YnACGc0PfNz</td>\n",
              "      <td>Sunday</td>\n",
              "      <td>Dermot Kennedy</td>\n",
              "      <td>38</td>\n",
              "      <td>-21</td>\n",
              "      <td>12</td>\n",
              "      <td>IE</td>\n",
              "      <td>2023-10-23</td>\n",
              "      <td>60</td>\n",
              "      <td>True</td>\n",
              "      <td>178746</td>\n",
              "      <td>Sunday</td>\n",
              "      <td>2023-10-20</td>\n",
              "      <td>0.620</td>\n",
              "      <td>0.478</td>\n",
              "      <td>11</td>\n",
              "      <td>-5.680</td>\n",
              "      <td>1</td>\n",
              "      <td>0.0363</td>\n",
              "      <td>0.81500</td>\n",
              "      <td>0.00000</td>\n",
              "      <td>0.0976</td>\n",
              "      <td>0.312</td>\n",
              "      <td>83.861</td>\n",
              "      <td>4</td>\n",
              "      <td>Ireland</td>\n",
              "      <td>Europe</td>\n",
              "    </tr>\n",
              "  </tbody>\n",
              "</table>\n",
              "</div>"
            ],
            "text/plain": [
              "                   spotify_id                name           artists  \\\n",
              "30709  7ABLbnD53cQK00mhcaOUVG                LALA       Myke Towers   \n",
              "21597  2pidGuLSSVZPcbzE5QA1Ux  Elevador - Ao Vivo  Hugo & Guilherme   \n",
              "6121   5mjYQaktjmjcMKcUIcqz4s           Strangers       Kenya Grace   \n",
              "24423  6vHkJ4L8gqCwedvhXkSCsa       The Magic Key     Trinix, One-T   \n",
              "20390  7xxmW8ieHp9YnACGc0PfNz              Sunday    Dermot Kennedy   \n",
              "\n",
              "       daily_rank  daily_movement  weekly_movement country snapshot_date  \\\n",
              "30709          12               1               38      MX    2023-10-20   \n",
              "21597          45               5                5      BR    2023-10-23   \n",
              "6121           41              -2               -9      GR    2023-10-27   \n",
              "24423          21               1               29      FR    2023-10-22   \n",
              "20390          38             -21               12      IE    2023-10-23   \n",
              "\n",
              "       popularity  is_explicit  duration_ms          album_name  \\\n",
              "30709          98         True       197920      LA VIDA ES UNA   \n",
              "21597          82        False       155767  Original (Ao Vivo)   \n",
              "6121           98        False       172964           Strangers   \n",
              "24423          76        False       171211       The Magic Key   \n",
              "20390          60         True       178746              Sunday   \n",
              "\n",
              "      album_release_date  danceability  energy  key  loudness  mode  \\\n",
              "30709         2023-03-23         0.708   0.737    1    -4.045     1   \n",
              "21597         2023-06-07         0.715   0.729    2    -4.587     1   \n",
              "6121          2023-09-01         0.628   0.523   11    -8.307     0   \n",
              "24423         2023-04-07         0.890   0.725    3    -5.213     1   \n",
              "20390         2023-10-20         0.620   0.478   11    -5.680     1   \n",
              "\n",
              "       speechiness  acousticness  instrumentalness  liveness  valence  \\\n",
              "30709       0.0436       0.07390           0.00162    0.0955    0.607   \n",
              "21597       0.0471       0.49800           0.00000    0.1640    0.717   \n",
              "6121        0.0946       0.70100           0.00274    0.2190    0.416   \n",
              "24423       0.0469       0.00989           0.00153    0.0954    0.762   \n",
              "20390       0.0363       0.81500           0.00000    0.0976    0.312   \n",
              "\n",
              "         tempo  time_signature country_name      continent  \n",
              "30709   91.986               4       Mexico  North America  \n",
              "21597  132.012               4       Brazil  South America  \n",
              "6121   169.982               4       Greece         Europe  \n",
              "24423  122.004               4       France         Europe  \n",
              "20390   83.861               4      Ireland         Europe  "
            ]
          },
          "execution_count": 286,
          "metadata": {},
          "output_type": "execute_result"
        }
      ],
      "source": [
        "df.sample(5)"
      ]
    },
    {
      "cell_type": "markdown",
      "metadata": {
        "id": "mqHYPYr4BUdl"
      },
      "source": [
        "# Exploratory Data Analysis\n",
        "\n",
        "In this report, we present the results of our comprehensive Exploratory Data Analysis (EDA) of a music dataset containing information about top Spotify songs from 7 continents. The dataset encompasses a wide range of attributes, including song popularity, explicit content, music features, and more. Through this EDA, we aimed to uncover valuable insights and patterns within the dataset, shedding light on the relationships between different attributes and their variations across continents. Our analysis not only provides a deeper understanding of the dataset but also serves as a foundational step for subsequent data-driven decisions and modeling efforts in the realm of music analytics. Join us on this analytical journey to explore the fascinating world of music data."
      ]
    },
    {
      "cell_type": "markdown",
      "metadata": {
        "id": "DwtvQ9cWBUdl"
      },
      "source": [
        "___"
      ]
    },
    {
      "cell_type": "markdown",
      "metadata": {
        "id": "fFu3qoyiBUdm"
      },
      "source": [
        "**Task** As part of the exploratory data analysis (EDA), we want to understand the distribution of explicit and non-explicit songs listened to in each continent.\n",
        "\n",
        "**Question** How does the count of explicit and non-explicit songs vary across different continents?"
      ]
    },
    {
      "cell_type": "code",
      "execution_count": 287,
      "metadata": {
        "id": "4UbYcEJEBUdm"
      },
      "outputs": [
        {
          "data": {
            "text/html": [
              "<div>\n",
              "<style scoped>\n",
              "    .dataframe tbody tr th:only-of-type {\n",
              "        vertical-align: middle;\n",
              "    }\n",
              "\n",
              "    .dataframe tbody tr th {\n",
              "        vertical-align: top;\n",
              "    }\n",
              "\n",
              "    .dataframe thead th {\n",
              "        text-align: right;\n",
              "    }\n",
              "</style>\n",
              "<table border=\"1\" class=\"dataframe\">\n",
              "  <thead>\n",
              "    <tr style=\"text-align: right;\">\n",
              "      <th>is_explicit</th>\n",
              "      <th>False</th>\n",
              "      <th>True</th>\n",
              "    </tr>\n",
              "    <tr>\n",
              "      <th>continent</th>\n",
              "      <th></th>\n",
              "      <th></th>\n",
              "    </tr>\n",
              "  </thead>\n",
              "  <tbody>\n",
              "    <tr>\n",
              "      <th>Africa</th>\n",
              "      <td>1,480.00</td>\n",
              "      <td>729.00</td>\n",
              "    </tr>\n",
              "    <tr>\n",
              "      <th>Asia</th>\n",
              "      <td>7,920.00</td>\n",
              "      <td>1,457.00</td>\n",
              "    </tr>\n",
              "    <tr>\n",
              "      <th>Australia</th>\n",
              "      <td>686.00</td>\n",
              "      <td>417.00</td>\n",
              "    </tr>\n",
              "    <tr>\n",
              "      <th>Europe</th>\n",
              "      <td>9,146.00</td>\n",
              "      <td>6,750.00</td>\n",
              "    </tr>\n",
              "    <tr>\n",
              "      <th>Global</th>\n",
              "      <td>263.00</td>\n",
              "      <td>289.00</td>\n",
              "    </tr>\n",
              "    <tr>\n",
              "      <th>North America</th>\n",
              "      <td>1,958.00</td>\n",
              "      <td>3,566.00</td>\n",
              "    </tr>\n",
              "    <tr>\n",
              "      <th>South America</th>\n",
              "      <td>2,562.00</td>\n",
              "      <td>2,948.00</td>\n",
              "    </tr>\n",
              "  </tbody>\n",
              "</table>\n",
              "</div>"
            ],
            "text/plain": [
              "is_explicit       False     True \n",
              "continent                        \n",
              "Africa         1,480.00    729.00\n",
              "Asia           7,920.00  1,457.00\n",
              "Australia        686.00    417.00\n",
              "Europe         9,146.00  6,750.00\n",
              "Global           263.00    289.00\n",
              "North America  1,958.00  3,566.00\n",
              "South America  2,562.00  2,948.00"
            ]
          },
          "execution_count": 287,
          "metadata": {},
          "output_type": "execute_result"
        }
      ],
      "source": [
        "# count of explicit and not explicit songs listened in each continent\n",
        "df_a=df.groupby(['continent','is_explicit'])['spotify_id'].count().sort_values(ascending=False).unstack()\n",
        "df_a.map(nf2)"
      ]
    },
    {
      "cell_type": "markdown",
      "metadata": {
        "id": "wRe2I7trBUdm"
      },
      "source": [
        "This table provides insights into the distribution of explicit and non-explicit songs within each continent. It allows us to see variations in song preferences across different regions.\n",
        "\n",
        "**Conclusion:** In Europe and North America, there is a significant number of explicit songs, while in Asia and Australia, non-explicit songs are more prevalent.\n",
        "\n",
        "___"
      ]
    },
    {
      "cell_type": "markdown",
      "metadata": {
        "id": "_9ADrD73BUdm"
      },
      "source": [
        "**Task** As part of the exploratory data analysis (EDA), we want to understand the mean popularity of explicit and non-explicit songs listened to in each continent.\n",
        "\n",
        "**Question** How does the mean popularity differ between explicit and non-explicit songs in different continents?"
      ]
    },
    {
      "cell_type": "code",
      "execution_count": 288,
      "metadata": {
        "id": "SxPu1zbCBUdm"
      },
      "outputs": [
        {
          "data": {
            "text/html": [
              "<div>\n",
              "<style scoped>\n",
              "    .dataframe tbody tr th:only-of-type {\n",
              "        vertical-align: middle;\n",
              "    }\n",
              "\n",
              "    .dataframe tbody tr th {\n",
              "        vertical-align: top;\n",
              "    }\n",
              "\n",
              "    .dataframe thead th {\n",
              "        text-align: right;\n",
              "    }\n",
              "</style>\n",
              "<table border=\"1\" class=\"dataframe\">\n",
              "  <thead>\n",
              "    <tr style=\"text-align: right;\">\n",
              "      <th>is_explicit</th>\n",
              "      <th>False</th>\n",
              "      <th>True</th>\n",
              "    </tr>\n",
              "    <tr>\n",
              "      <th>continent</th>\n",
              "      <th></th>\n",
              "      <th></th>\n",
              "    </tr>\n",
              "  </thead>\n",
              "  <tbody>\n",
              "    <tr>\n",
              "      <th>Africa</th>\n",
              "      <td>64.64</td>\n",
              "      <td>68.36</td>\n",
              "    </tr>\n",
              "    <tr>\n",
              "      <th>Asia</th>\n",
              "      <td>75.31</td>\n",
              "      <td>85.81</td>\n",
              "    </tr>\n",
              "    <tr>\n",
              "      <th>Australia</th>\n",
              "      <td>87.53</td>\n",
              "      <td>90.05</td>\n",
              "    </tr>\n",
              "    <tr>\n",
              "      <th>Europe</th>\n",
              "      <td>73.74</td>\n",
              "      <td>76.10</td>\n",
              "    </tr>\n",
              "    <tr>\n",
              "      <th>Global</th>\n",
              "      <td>91.74</td>\n",
              "      <td>91.25</td>\n",
              "    </tr>\n",
              "    <tr>\n",
              "      <th>North America</th>\n",
              "      <td>85.56</td>\n",
              "      <td>88.17</td>\n",
              "    </tr>\n",
              "    <tr>\n",
              "      <th>South America</th>\n",
              "      <td>83.12</td>\n",
              "      <td>87.68</td>\n",
              "    </tr>\n",
              "  </tbody>\n",
              "</table>\n",
              "</div>"
            ],
            "text/plain": [
              "is_explicit    False  True \n",
              "continent                  \n",
              "Africa         64.64  68.36\n",
              "Asia           75.31  85.81\n",
              "Australia      87.53  90.05\n",
              "Europe         73.74  76.10\n",
              "Global         91.74  91.25\n",
              "North America  85.56  88.17\n",
              "South America  83.12  87.68"
            ]
          },
          "execution_count": 288,
          "metadata": {},
          "output_type": "execute_result"
        }
      ],
      "source": [
        "# mean popularity of explicit and not explicit songs listened in each continent\n",
        "df_a=df.groupby(['continent','is_explicit'])['popularity'].mean().sort_values(ascending=False).unstack()\n",
        "df_a.map(nf2)"
      ]
    },
    {
      "cell_type": "markdown",
      "metadata": {
        "id": "gIOiqyJ4BUdm"
      },
      "source": [
        "This table provides insights into the mean popularity of explicit and non-explicit songs within each continent. It allows us to see variations in the popularity of songs based on their explicit content across different regions.\n",
        "\n",
        "**Conclusion**: Explicit songs tend to have higher mean popularity in most continents compared to non-explicit songs.\n",
        "\n",
        "___"
      ]
    },
    {
      "cell_type": "markdown",
      "metadata": {
        "id": "7wjYpHG6BUdn"
      },
      "source": [
        "**Task** As part of the exploratory data analysis (EDA), we aim to calculate the total duration (in hours) of explicit and non-explicit songs listened to in each continent.\n",
        "\n",
        "**Question** How does the total duration vary between explicit and non-explicit songs in different continents?"
      ]
    },
    {
      "cell_type": "code",
      "execution_count": 289,
      "metadata": {
        "id": "nEMnN_gBBUdn"
      },
      "outputs": [
        {
          "data": {
            "text/html": [
              "<div>\n",
              "<style scoped>\n",
              "    .dataframe tbody tr th:only-of-type {\n",
              "        vertical-align: middle;\n",
              "    }\n",
              "\n",
              "    .dataframe tbody tr th {\n",
              "        vertical-align: top;\n",
              "    }\n",
              "\n",
              "    .dataframe thead th {\n",
              "        text-align: right;\n",
              "    }\n",
              "</style>\n",
              "<table border=\"1\" class=\"dataframe\">\n",
              "  <thead>\n",
              "    <tr style=\"text-align: right;\">\n",
              "      <th>is_explicit</th>\n",
              "      <th>False</th>\n",
              "      <th>True</th>\n",
              "    </tr>\n",
              "    <tr>\n",
              "      <th>continent</th>\n",
              "      <th></th>\n",
              "      <th></th>\n",
              "    </tr>\n",
              "  </thead>\n",
              "  <tbody>\n",
              "    <tr>\n",
              "      <th>Africa</th>\n",
              "      <td>92.73</td>\n",
              "      <td>38.97</td>\n",
              "    </tr>\n",
              "    <tr>\n",
              "      <th>Asia</th>\n",
              "      <td>461.33</td>\n",
              "      <td>78.91</td>\n",
              "    </tr>\n",
              "    <tr>\n",
              "      <th>Australia</th>\n",
              "      <td>38.05</td>\n",
              "      <td>24.11</td>\n",
              "    </tr>\n",
              "    <tr>\n",
              "      <th>Europe</th>\n",
              "      <td>460.12</td>\n",
              "      <td>342.54</td>\n",
              "    </tr>\n",
              "    <tr>\n",
              "      <th>Global</th>\n",
              "      <td>14.35</td>\n",
              "      <td>16.44</td>\n",
              "    </tr>\n",
              "    <tr>\n",
              "      <th>North America</th>\n",
              "      <td>100.32</td>\n",
              "      <td>209.80</td>\n",
              "    </tr>\n",
              "    <tr>\n",
              "      <th>South America</th>\n",
              "      <td>125.62</td>\n",
              "      <td>169.31</td>\n",
              "    </tr>\n",
              "  </tbody>\n",
              "</table>\n",
              "</div>"
            ],
            "text/plain": [
              "is_explicit     False   True \n",
              "continent                    \n",
              "Africa          92.73   38.97\n",
              "Asia           461.33   78.91\n",
              "Australia       38.05   24.11\n",
              "Europe         460.12  342.54\n",
              "Global          14.35   16.44\n",
              "North America  100.32  209.80\n",
              "South America  125.62  169.31"
            ]
          },
          "execution_count": 289,
          "metadata": {},
          "output_type": "execute_result"
        }
      ],
      "source": [
        "# total duration (in hours) of explicit and not explicit songs in each continent\n",
        "df_a=df.groupby(['continent','is_explicit'])['duration_ms'].sum().sort_values(ascending=False).unstack()/1000/60/60\n",
        "df_a.map(nf2)"
      ]
    },
    {
      "cell_type": "markdown",
      "metadata": {
        "id": "w_E1jA5YBUdn"
      },
      "source": [
        "This table provides insights into the total duration of explicit and non-explicit songs within each continent, measured in hours. It allows us to see variations in the listening habits in terms of song duration across different regions.\n",
        "\n",
        "**Conclusion:** In South and North America, non-explicit songs have a significantly shorter total duration compared to explicit songs. On the other hand trend is opposit for all other continents.\n",
        "\n",
        "___"
      ]
    },
    {
      "cell_type": "markdown",
      "metadata": {
        "id": "Jn3pMXojBUdr"
      },
      "source": [
        "**Task** As part of the exploratory data analysis (EDA), we want to examine the mean danceability of explicit and non-explicit songs in each continent.\n",
        "\n",
        "**Question** How does the mean danceability vary between explicit and non-explicit songs in different continents?"
      ]
    },
    {
      "cell_type": "code",
      "execution_count": 290,
      "metadata": {
        "id": "hVM9wFmVBUdr"
      },
      "outputs": [
        {
          "data": {
            "text/html": [
              "<div>\n",
              "<style scoped>\n",
              "    .dataframe tbody tr th:only-of-type {\n",
              "        vertical-align: middle;\n",
              "    }\n",
              "\n",
              "    .dataframe tbody tr th {\n",
              "        vertical-align: top;\n",
              "    }\n",
              "\n",
              "    .dataframe thead th {\n",
              "        text-align: right;\n",
              "    }\n",
              "</style>\n",
              "<table border=\"1\" class=\"dataframe\">\n",
              "  <thead>\n",
              "    <tr style=\"text-align: right;\">\n",
              "      <th>is_explicit</th>\n",
              "      <th>False</th>\n",
              "      <th>True</th>\n",
              "    </tr>\n",
              "    <tr>\n",
              "      <th>continent</th>\n",
              "      <th></th>\n",
              "      <th></th>\n",
              "    </tr>\n",
              "  </thead>\n",
              "  <tbody>\n",
              "    <tr>\n",
              "      <th>Africa</th>\n",
              "      <td>0.73</td>\n",
              "      <td>0.72</td>\n",
              "    </tr>\n",
              "    <tr>\n",
              "      <th>Asia</th>\n",
              "      <td>0.62</td>\n",
              "      <td>0.74</td>\n",
              "    </tr>\n",
              "    <tr>\n",
              "      <th>Australia</th>\n",
              "      <td>0.62</td>\n",
              "      <td>0.69</td>\n",
              "    </tr>\n",
              "    <tr>\n",
              "      <th>Europe</th>\n",
              "      <td>0.66</td>\n",
              "      <td>0.73</td>\n",
              "    </tr>\n",
              "    <tr>\n",
              "      <th>Global</th>\n",
              "      <td>0.59</td>\n",
              "      <td>0.74</td>\n",
              "    </tr>\n",
              "    <tr>\n",
              "      <th>North America</th>\n",
              "      <td>0.66</td>\n",
              "      <td>0.76</td>\n",
              "    </tr>\n",
              "    <tr>\n",
              "      <th>South America</th>\n",
              "      <td>0.70</td>\n",
              "      <td>0.78</td>\n",
              "    </tr>\n",
              "  </tbody>\n",
              "</table>\n",
              "</div>"
            ],
            "text/plain": [
              "is_explicit   False True \n",
              "continent                \n",
              "Africa         0.73  0.72\n",
              "Asia           0.62  0.74\n",
              "Australia      0.62  0.69\n",
              "Europe         0.66  0.73\n",
              "Global         0.59  0.74\n",
              "North America  0.66  0.76\n",
              "South America  0.70  0.78"
            ]
          },
          "execution_count": 290,
          "metadata": {},
          "output_type": "execute_result"
        }
      ],
      "source": [
        "# mean danceability of explicit and not explicit songs in each continent\n",
        "df_a=df.groupby(['continent','is_explicit'])['danceability'].mean().sort_values(ascending=False).unstack()\n",
        "df_a.map(nf2)"
      ]
    },
    {
      "cell_type": "markdown",
      "metadata": {
        "id": "xypX7s7MBUds"
      },
      "source": [
        "This table provides insights into the mean danceability of explicit and non-explicit songs within each continent. It allows us to see variations in the danceability of songs based on their explicit content across different regions.\n",
        "\n",
        "**Conclusion:** Explicit songs tend to have higher mean danceability in all continents but Africa compared to non-explicit songs.\n",
        "\n",
        "___"
      ]
    },
    {
      "cell_type": "markdown",
      "metadata": {
        "id": "6xDCT3KaBUds"
      },
      "source": [
        "**Task** As part of the exploratory data analysis (EDA), we aim to analyze the mean energy of explicit and non-explicit songs in each continent.\n",
        "\n",
        "**Question** How does the mean energy differ between explicit and non-explicit songs in different continents?"
      ]
    },
    {
      "cell_type": "code",
      "execution_count": 291,
      "metadata": {
        "id": "F7Ml5kxEBUds"
      },
      "outputs": [
        {
          "data": {
            "text/html": [
              "<div>\n",
              "<style scoped>\n",
              "    .dataframe tbody tr th:only-of-type {\n",
              "        vertical-align: middle;\n",
              "    }\n",
              "\n",
              "    .dataframe tbody tr th {\n",
              "        vertical-align: top;\n",
              "    }\n",
              "\n",
              "    .dataframe thead th {\n",
              "        text-align: right;\n",
              "    }\n",
              "</style>\n",
              "<table border=\"1\" class=\"dataframe\">\n",
              "  <thead>\n",
              "    <tr style=\"text-align: right;\">\n",
              "      <th>is_explicit</th>\n",
              "      <th>False</th>\n",
              "      <th>True</th>\n",
              "    </tr>\n",
              "    <tr>\n",
              "      <th>continent</th>\n",
              "      <th></th>\n",
              "      <th></th>\n",
              "    </tr>\n",
              "  </thead>\n",
              "  <tbody>\n",
              "    <tr>\n",
              "      <th>Africa</th>\n",
              "      <td>0.64</td>\n",
              "      <td>0.63</td>\n",
              "    </tr>\n",
              "    <tr>\n",
              "      <th>Asia</th>\n",
              "      <td>0.60</td>\n",
              "      <td>0.66</td>\n",
              "    </tr>\n",
              "    <tr>\n",
              "      <th>Australia</th>\n",
              "      <td>0.63</td>\n",
              "      <td>0.67</td>\n",
              "    </tr>\n",
              "    <tr>\n",
              "      <th>Europe</th>\n",
              "      <td>0.64</td>\n",
              "      <td>0.66</td>\n",
              "    </tr>\n",
              "    <tr>\n",
              "      <th>Global</th>\n",
              "      <td>0.59</td>\n",
              "      <td>0.70</td>\n",
              "    </tr>\n",
              "    <tr>\n",
              "      <th>North America</th>\n",
              "      <td>0.63</td>\n",
              "      <td>0.69</td>\n",
              "    </tr>\n",
              "    <tr>\n",
              "      <th>South America</th>\n",
              "      <td>0.67</td>\n",
              "      <td>0.70</td>\n",
              "    </tr>\n",
              "  </tbody>\n",
              "</table>\n",
              "</div>"
            ],
            "text/plain": [
              "is_explicit   False True \n",
              "continent                \n",
              "Africa         0.64  0.63\n",
              "Asia           0.60  0.66\n",
              "Australia      0.63  0.67\n",
              "Europe         0.64  0.66\n",
              "Global         0.59  0.70\n",
              "North America  0.63  0.69\n",
              "South America  0.67  0.70"
            ]
          },
          "execution_count": 291,
          "metadata": {},
          "output_type": "execute_result"
        }
      ],
      "source": [
        "# mean energy of explicit and not explicit songs in each continent\n",
        "df_a=df.groupby(['continent','is_explicit'])['energy'].mean().sort_values(ascending=False).unstack()\n",
        "df_a.map(nf2)"
      ]
    },
    {
      "cell_type": "markdown",
      "metadata": {
        "id": "JXGgyqa8BUds"
      },
      "source": [
        "This table provides insights into the mean energy of explicit and non-explicit songs within each continent. It allows us to see variations in the energy levels of songs based on their explicit content across different regions.\n",
        "\n",
        "**Conclusion**: Explicit songs tend to have higher mean energy in all continents but Africa compared to non-explicit songs.\n",
        "\n",
        "___"
      ]
    },
    {
      "cell_type": "markdown",
      "metadata": {
        "id": "Do93ozP9BUds"
      },
      "source": [
        "**Task** As part of the exploratory data analysis (EDA), we want to explore the mean key of explicit and non-explicit songs in each continent.\n",
        "\n",
        "**Question** How does the mean key value differ between explicit and non-explicit songs in different continents?"
      ]
    },
    {
      "cell_type": "code",
      "execution_count": 292,
      "metadata": {
        "id": "ejgPxuq5BUds"
      },
      "outputs": [
        {
          "data": {
            "text/html": [
              "<div>\n",
              "<style scoped>\n",
              "    .dataframe tbody tr th:only-of-type {\n",
              "        vertical-align: middle;\n",
              "    }\n",
              "\n",
              "    .dataframe tbody tr th {\n",
              "        vertical-align: top;\n",
              "    }\n",
              "\n",
              "    .dataframe thead th {\n",
              "        text-align: right;\n",
              "    }\n",
              "</style>\n",
              "<table border=\"1\" class=\"dataframe\">\n",
              "  <thead>\n",
              "    <tr style=\"text-align: right;\">\n",
              "      <th>is_explicit</th>\n",
              "      <th>False</th>\n",
              "      <th>True</th>\n",
              "    </tr>\n",
              "    <tr>\n",
              "      <th>continent</th>\n",
              "      <th></th>\n",
              "      <th></th>\n",
              "    </tr>\n",
              "  </thead>\n",
              "  <tbody>\n",
              "    <tr>\n",
              "      <th>Africa</th>\n",
              "      <td>5.73</td>\n",
              "      <td>5.77</td>\n",
              "    </tr>\n",
              "    <tr>\n",
              "      <th>Asia</th>\n",
              "      <td>5.52</td>\n",
              "      <td>5.31</td>\n",
              "    </tr>\n",
              "    <tr>\n",
              "      <th>Australia</th>\n",
              "      <td>5.21</td>\n",
              "      <td>5.01</td>\n",
              "    </tr>\n",
              "    <tr>\n",
              "      <th>Europe</th>\n",
              "      <td>5.63</td>\n",
              "      <td>5.22</td>\n",
              "    </tr>\n",
              "    <tr>\n",
              "      <th>Global</th>\n",
              "      <td>5.22</td>\n",
              "      <td>5.51</td>\n",
              "    </tr>\n",
              "    <tr>\n",
              "      <th>North America</th>\n",
              "      <td>6.07</td>\n",
              "      <td>5.45</td>\n",
              "    </tr>\n",
              "    <tr>\n",
              "      <th>South America</th>\n",
              "      <td>5.98</td>\n",
              "      <td>5.50</td>\n",
              "    </tr>\n",
              "  </tbody>\n",
              "</table>\n",
              "</div>"
            ],
            "text/plain": [
              "is_explicit   False True \n",
              "continent                \n",
              "Africa         5.73  5.77\n",
              "Asia           5.52  5.31\n",
              "Australia      5.21  5.01\n",
              "Europe         5.63  5.22\n",
              "Global         5.22  5.51\n",
              "North America  6.07  5.45\n",
              "South America  5.98  5.50"
            ]
          },
          "execution_count": 292,
          "metadata": {},
          "output_type": "execute_result"
        }
      ],
      "source": [
        "# mean key of explicit and not explicit songs in each continent\n",
        "df_a=df.groupby(['continent','is_explicit'])['key'].mean().sort_values(ascending=False).unstack()\n",
        "df_a.map(nf2)\n"
      ]
    },
    {
      "cell_type": "markdown",
      "metadata": {
        "id": "-AMYqGcpBUds"
      },
      "source": [
        "This table provides insights into the mean key values of explicit and non-explicit songs within each continent. It allows us to see variations in the key signatures of songs based on their explicit content across different regions.\n",
        "\n",
        "**Conclusion** Explicit songs tend to have relatively consistent mean key values in most continents, with some variation.\n",
        "___"
      ]
    },
    {
      "cell_type": "markdown",
      "metadata": {
        "id": "OEl9IEmKBUdt"
      },
      "source": [
        "**Task** As part of the exploratory data analysis (EDA), we want to examine the mean loudness of explicit and non-explicit songs in each continent.\n",
        "\n",
        "**Question** How does the mean loudness differ between explicit and non-explicit songs in different continents?"
      ]
    },
    {
      "cell_type": "code",
      "execution_count": 293,
      "metadata": {
        "id": "mv6c1_pnBUdt"
      },
      "outputs": [
        {
          "data": {
            "text/html": [
              "<div>\n",
              "<style scoped>\n",
              "    .dataframe tbody tr th:only-of-type {\n",
              "        vertical-align: middle;\n",
              "    }\n",
              "\n",
              "    .dataframe tbody tr th {\n",
              "        vertical-align: top;\n",
              "    }\n",
              "\n",
              "    .dataframe thead th {\n",
              "        text-align: right;\n",
              "    }\n",
              "</style>\n",
              "<table border=\"1\" class=\"dataframe\">\n",
              "  <thead>\n",
              "    <tr style=\"text-align: right;\">\n",
              "      <th>is_explicit</th>\n",
              "      <th>False</th>\n",
              "      <th>True</th>\n",
              "    </tr>\n",
              "    <tr>\n",
              "      <th>continent</th>\n",
              "      <th></th>\n",
              "      <th></th>\n",
              "    </tr>\n",
              "  </thead>\n",
              "  <tbody>\n",
              "    <tr>\n",
              "      <th>Africa</th>\n",
              "      <td>-7.87</td>\n",
              "      <td>-7.72</td>\n",
              "    </tr>\n",
              "    <tr>\n",
              "      <th>Asia</th>\n",
              "      <td>-7.22</td>\n",
              "      <td>-6.44</td>\n",
              "    </tr>\n",
              "    <tr>\n",
              "      <th>Australia</th>\n",
              "      <td>-7.01</td>\n",
              "      <td>-6.24</td>\n",
              "    </tr>\n",
              "    <tr>\n",
              "      <th>Europe</th>\n",
              "      <td>-7.08</td>\n",
              "      <td>-6.88</td>\n",
              "    </tr>\n",
              "    <tr>\n",
              "      <th>Global</th>\n",
              "      <td>-7.46</td>\n",
              "      <td>-5.61</td>\n",
              "    </tr>\n",
              "    <tr>\n",
              "      <th>North America</th>\n",
              "      <td>-6.30</td>\n",
              "      <td>-5.29</td>\n",
              "    </tr>\n",
              "    <tr>\n",
              "      <th>South America</th>\n",
              "      <td>-5.62</td>\n",
              "      <td>-5.06</td>\n",
              "    </tr>\n",
              "  </tbody>\n",
              "</table>\n",
              "</div>"
            ],
            "text/plain": [
              "is_explicit    False  True \n",
              "continent                  \n",
              "Africa         -7.87  -7.72\n",
              "Asia           -7.22  -6.44\n",
              "Australia      -7.01  -6.24\n",
              "Europe         -7.08  -6.88\n",
              "Global         -7.46  -5.61\n",
              "North America  -6.30  -5.29\n",
              "South America  -5.62  -5.06"
            ]
          },
          "execution_count": 293,
          "metadata": {},
          "output_type": "execute_result"
        }
      ],
      "source": [
        "# mean loudness of explicit and not explicit songs in each continent\n",
        "df_a=df.groupby(['continent','is_explicit'])['loudness'].mean().sort_values(ascending=False).unstack()\n",
        "df_a.map(nf2)\n"
      ]
    },
    {
      "cell_type": "markdown",
      "metadata": {
        "id": "54BMy2GLBUdt"
      },
      "source": [
        "This table provides insights into the mean loudness of explicit and non-explicit songs within each continent. It allows us to see variations in the loudness of songs based on their explicit content across different regions.\n",
        "\n",
        "**Conclusion**: Explicit songs tend to have higher mean loudness in most continents compared to non-explicit songs, indicating a relatively louder sound profile.\n",
        "___"
      ]
    },
    {
      "cell_type": "markdown",
      "metadata": {
        "id": "e-CE-82qBUdt"
      },
      "source": [
        "**Task** As part of the exploratory data analysis (EDA), we want to explore the mean mode of explicit and non-explicit songs in each continent.\n",
        "\n",
        "**Question** How does the mean mode value differ between explicit and non-explicit songs in different continents?"
      ]
    },
    {
      "cell_type": "code",
      "execution_count": 294,
      "metadata": {
        "id": "WGFHa7dcBUdt"
      },
      "outputs": [
        {
          "data": {
            "text/html": [
              "<div>\n",
              "<style scoped>\n",
              "    .dataframe tbody tr th:only-of-type {\n",
              "        vertical-align: middle;\n",
              "    }\n",
              "\n",
              "    .dataframe tbody tr th {\n",
              "        vertical-align: top;\n",
              "    }\n",
              "\n",
              "    .dataframe thead th {\n",
              "        text-align: right;\n",
              "    }\n",
              "</style>\n",
              "<table border=\"1\" class=\"dataframe\">\n",
              "  <thead>\n",
              "    <tr style=\"text-align: right;\">\n",
              "      <th>is_explicit</th>\n",
              "      <th>False</th>\n",
              "      <th>True</th>\n",
              "    </tr>\n",
              "    <tr>\n",
              "      <th>continent</th>\n",
              "      <th></th>\n",
              "      <th></th>\n",
              "    </tr>\n",
              "  </thead>\n",
              "  <tbody>\n",
              "    <tr>\n",
              "      <th>Africa</th>\n",
              "      <td>0.37</td>\n",
              "      <td>0.42</td>\n",
              "    </tr>\n",
              "    <tr>\n",
              "      <th>Asia</th>\n",
              "      <td>0.59</td>\n",
              "      <td>0.54</td>\n",
              "    </tr>\n",
              "    <tr>\n",
              "      <th>Australia</th>\n",
              "      <td>0.68</td>\n",
              "      <td>0.66</td>\n",
              "    </tr>\n",
              "    <tr>\n",
              "      <th>Europe</th>\n",
              "      <td>0.42</td>\n",
              "      <td>0.46</td>\n",
              "    </tr>\n",
              "    <tr>\n",
              "      <th>Global</th>\n",
              "      <td>0.59</td>\n",
              "      <td>0.51</td>\n",
              "    </tr>\n",
              "    <tr>\n",
              "      <th>North America</th>\n",
              "      <td>0.57</td>\n",
              "      <td>0.43</td>\n",
              "    </tr>\n",
              "    <tr>\n",
              "      <th>South America</th>\n",
              "      <td>0.57</td>\n",
              "      <td>0.41</td>\n",
              "    </tr>\n",
              "  </tbody>\n",
              "</table>\n",
              "</div>"
            ],
            "text/plain": [
              "is_explicit   False True \n",
              "continent                \n",
              "Africa         0.37  0.42\n",
              "Asia           0.59  0.54\n",
              "Australia      0.68  0.66\n",
              "Europe         0.42  0.46\n",
              "Global         0.59  0.51\n",
              "North America  0.57  0.43\n",
              "South America  0.57  0.41"
            ]
          },
          "execution_count": 294,
          "metadata": {},
          "output_type": "execute_result"
        }
      ],
      "source": [
        "# mean mode of explicit and not explicit songs in each continent\n",
        "df_a=df.groupby(['continent','is_explicit'])['mode'].mean().sort_values(ascending=False).unstack()\n",
        "df_a.map(nf2)"
      ]
    },
    {
      "cell_type": "markdown",
      "metadata": {
        "id": "5UkusV_KBUdt"
      },
      "source": [
        "This table provides insights into the mean mode values of explicit and non-explicit songs within each continent. It allows us to see variations in the mode of songs based on their explicit content across different regions.\n",
        "\n",
        "**Conclusion**: Non explicit songs tend to have somewhat higher mean mode values in some continents, while explicit songs exhibit different patterns in mode values.\n",
        "___"
      ]
    },
    {
      "cell_type": "markdown",
      "metadata": {
        "id": "H9eNNr0JBUdt"
      },
      "source": [
        "**Task** As part of the exploratory data analysis (EDA), we want to analyze the mean speechiness of explicit and non-explicit songs in each continent.\n",
        "\n",
        "**Question** How does the mean speechiness differ between explicit and non-explicit songs in different continents?"
      ]
    },
    {
      "cell_type": "code",
      "execution_count": 295,
      "metadata": {
        "id": "i7rLHjcZBUdu"
      },
      "outputs": [
        {
          "data": {
            "text/html": [
              "<div>\n",
              "<style scoped>\n",
              "    .dataframe tbody tr th:only-of-type {\n",
              "        vertical-align: middle;\n",
              "    }\n",
              "\n",
              "    .dataframe tbody tr th {\n",
              "        vertical-align: top;\n",
              "    }\n",
              "\n",
              "    .dataframe thead th {\n",
              "        text-align: right;\n",
              "    }\n",
              "</style>\n",
              "<table border=\"1\" class=\"dataframe\">\n",
              "  <thead>\n",
              "    <tr style=\"text-align: right;\">\n",
              "      <th>is_explicit</th>\n",
              "      <th>False</th>\n",
              "      <th>True</th>\n",
              "    </tr>\n",
              "    <tr>\n",
              "      <th>continent</th>\n",
              "      <th></th>\n",
              "      <th></th>\n",
              "    </tr>\n",
              "  </thead>\n",
              "  <tbody>\n",
              "    <tr>\n",
              "      <th>Africa</th>\n",
              "      <td>0.10</td>\n",
              "      <td>0.20</td>\n",
              "    </tr>\n",
              "    <tr>\n",
              "      <th>Asia</th>\n",
              "      <td>0.07</td>\n",
              "      <td>0.13</td>\n",
              "    </tr>\n",
              "    <tr>\n",
              "      <th>Australia</th>\n",
              "      <td>0.06</td>\n",
              "      <td>0.14</td>\n",
              "    </tr>\n",
              "    <tr>\n",
              "      <th>Europe</th>\n",
              "      <td>0.09</td>\n",
              "      <td>0.16</td>\n",
              "    </tr>\n",
              "    <tr>\n",
              "      <th>Global</th>\n",
              "      <td>0.07</td>\n",
              "      <td>0.13</td>\n",
              "    </tr>\n",
              "    <tr>\n",
              "      <th>North America</th>\n",
              "      <td>0.09</td>\n",
              "      <td>0.15</td>\n",
              "    </tr>\n",
              "    <tr>\n",
              "      <th>South America</th>\n",
              "      <td>0.11</td>\n",
              "      <td>0.14</td>\n",
              "    </tr>\n",
              "  </tbody>\n",
              "</table>\n",
              "</div>"
            ],
            "text/plain": [
              "is_explicit   False True \n",
              "continent                \n",
              "Africa         0.10  0.20\n",
              "Asia           0.07  0.13\n",
              "Australia      0.06  0.14\n",
              "Europe         0.09  0.16\n",
              "Global         0.07  0.13\n",
              "North America  0.09  0.15\n",
              "South America  0.11  0.14"
            ]
          },
          "execution_count": 295,
          "metadata": {},
          "output_type": "execute_result"
        }
      ],
      "source": [
        "# mean speechiness of explicit and not explicit songs in each continent\n",
        "df_a=df.groupby(['continent','is_explicit'])['speechiness'].mean().sort_values(ascending=False).unstack()\n",
        "df_a.map(nf2)"
      ]
    },
    {
      "cell_type": "markdown",
      "metadata": {
        "id": "6ShKDXorBUdu"
      },
      "source": [
        "This table provides insights into the mean speechiness of explicit and non-explicit songs within each continent. It allows us to see variations in the speechiness of songs based on their explicit content across different regions.\n",
        "\n",
        "**Conclusion**: Explicit songs tend to have higher mean speechiness values in all continents compared to non-explicit songs.\n",
        "___"
      ]
    },
    {
      "cell_type": "markdown",
      "metadata": {
        "id": "ISDzjx-2BUdu"
      },
      "source": [
        "**Task** As part of the exploratory data analysis (EDA), we want to examine the mean acousticness of explicit and non-explicit songs in each continent.\n",
        "\n",
        "**Question** How does the mean acousticness differ between explicit and non-explicit songs in different continents?"
      ]
    },
    {
      "cell_type": "code",
      "execution_count": 296,
      "metadata": {
        "id": "8YGXteaxBUdu"
      },
      "outputs": [
        {
          "data": {
            "text/html": [
              "<div>\n",
              "<style scoped>\n",
              "    .dataframe tbody tr th:only-of-type {\n",
              "        vertical-align: middle;\n",
              "    }\n",
              "\n",
              "    .dataframe tbody tr th {\n",
              "        vertical-align: top;\n",
              "    }\n",
              "\n",
              "    .dataframe thead th {\n",
              "        text-align: right;\n",
              "    }\n",
              "</style>\n",
              "<table border=\"1\" class=\"dataframe\">\n",
              "  <thead>\n",
              "    <tr style=\"text-align: right;\">\n",
              "      <th>is_explicit</th>\n",
              "      <th>False</th>\n",
              "      <th>True</th>\n",
              "    </tr>\n",
              "    <tr>\n",
              "      <th>continent</th>\n",
              "      <th></th>\n",
              "      <th></th>\n",
              "    </tr>\n",
              "  </thead>\n",
              "  <tbody>\n",
              "    <tr>\n",
              "      <th>Africa</th>\n",
              "      <td>0.30</td>\n",
              "      <td>0.28</td>\n",
              "    </tr>\n",
              "    <tr>\n",
              "      <th>Asia</th>\n",
              "      <td>0.36</td>\n",
              "      <td>0.24</td>\n",
              "    </tr>\n",
              "    <tr>\n",
              "      <th>Australia</th>\n",
              "      <td>0.29</td>\n",
              "      <td>0.16</td>\n",
              "    </tr>\n",
              "    <tr>\n",
              "      <th>Europe</th>\n",
              "      <td>0.31</td>\n",
              "      <td>0.22</td>\n",
              "    </tr>\n",
              "    <tr>\n",
              "      <th>Global</th>\n",
              "      <td>0.35</td>\n",
              "      <td>0.22</td>\n",
              "    </tr>\n",
              "    <tr>\n",
              "      <th>North America</th>\n",
              "      <td>0.32</td>\n",
              "      <td>0.25</td>\n",
              "    </tr>\n",
              "    <tr>\n",
              "      <th>South America</th>\n",
              "      <td>0.29</td>\n",
              "      <td>0.26</td>\n",
              "    </tr>\n",
              "  </tbody>\n",
              "</table>\n",
              "</div>"
            ],
            "text/plain": [
              "is_explicit   False True \n",
              "continent                \n",
              "Africa         0.30  0.28\n",
              "Asia           0.36  0.24\n",
              "Australia      0.29  0.16\n",
              "Europe         0.31  0.22\n",
              "Global         0.35  0.22\n",
              "North America  0.32  0.25\n",
              "South America  0.29  0.26"
            ]
          },
          "execution_count": 296,
          "metadata": {},
          "output_type": "execute_result"
        }
      ],
      "source": [
        "# mean acousticness of explicit and not explicit songs in each continent\n",
        "df_a=df.groupby(['continent','is_explicit'])['acousticness'].mean().sort_values(ascending=False).unstack()\n",
        "df_a.map(nf2)"
      ]
    },
    {
      "cell_type": "markdown",
      "metadata": {
        "id": "QTo8aA69BUdu"
      },
      "source": [
        "This table provides insights into the mean acousticness of explicit and non-explicit songs within each continent. It allows us to see variations in the acoustic characteristics of songs based on their explicit content across different regions.\n",
        "\n",
        "**Conclusion**: Explicit songs tend to have low mean acousticness values in all continents, and this may reflect regional preferences in music.\n",
        "___"
      ]
    },
    {
      "cell_type": "markdown",
      "metadata": {
        "id": "Bvjeid94BUdv"
      },
      "source": [
        "**Task** As part of the exploratory data analysis (EDA), we want to analyze the mean instrumentalness of explicit and non-explicit songs in each continent.\n",
        "\n",
        "**Question** How does the mean instrumentalness differ between explicit and non-explicit songs in different continents?"
      ]
    },
    {
      "cell_type": "code",
      "execution_count": 297,
      "metadata": {
        "id": "Tpp1IZX5BUdv"
      },
      "outputs": [
        {
          "data": {
            "text/html": [
              "<div>\n",
              "<style scoped>\n",
              "    .dataframe tbody tr th:only-of-type {\n",
              "        vertical-align: middle;\n",
              "    }\n",
              "\n",
              "    .dataframe tbody tr th {\n",
              "        vertical-align: top;\n",
              "    }\n",
              "\n",
              "    .dataframe thead th {\n",
              "        text-align: right;\n",
              "    }\n",
              "</style>\n",
              "<table border=\"1\" class=\"dataframe\">\n",
              "  <thead>\n",
              "    <tr style=\"text-align: right;\">\n",
              "      <th>is_explicit</th>\n",
              "      <th>False</th>\n",
              "      <th>True</th>\n",
              "    </tr>\n",
              "    <tr>\n",
              "      <th>continent</th>\n",
              "      <th></th>\n",
              "      <th></th>\n",
              "    </tr>\n",
              "  </thead>\n",
              "  <tbody>\n",
              "    <tr>\n",
              "      <th>Africa</th>\n",
              "      <td>0.041803</td>\n",
              "      <td>0.003140</td>\n",
              "    </tr>\n",
              "    <tr>\n",
              "      <th>Asia</th>\n",
              "      <td>0.017279</td>\n",
              "      <td>0.030559</td>\n",
              "    </tr>\n",
              "    <tr>\n",
              "      <th>Australia</th>\n",
              "      <td>0.011218</td>\n",
              "      <td>0.000073</td>\n",
              "    </tr>\n",
              "    <tr>\n",
              "      <th>Europe</th>\n",
              "      <td>0.023213</td>\n",
              "      <td>0.021329</td>\n",
              "    </tr>\n",
              "    <tr>\n",
              "      <th>Global</th>\n",
              "      <td>0.013804</td>\n",
              "      <td>0.011069</td>\n",
              "    </tr>\n",
              "    <tr>\n",
              "      <th>North America</th>\n",
              "      <td>0.008152</td>\n",
              "      <td>0.016820</td>\n",
              "    </tr>\n",
              "    <tr>\n",
              "      <th>South America</th>\n",
              "      <td>0.005034</td>\n",
              "      <td>0.015079</td>\n",
              "    </tr>\n",
              "  </tbody>\n",
              "</table>\n",
              "</div>"
            ],
            "text/plain": [
              "is_explicit       False     True \n",
              "continent                        \n",
              "Africa         0.041803  0.003140\n",
              "Asia           0.017279  0.030559\n",
              "Australia      0.011218  0.000073\n",
              "Europe         0.023213  0.021329\n",
              "Global         0.013804  0.011069\n",
              "North America  0.008152  0.016820\n",
              "South America  0.005034  0.015079"
            ]
          },
          "execution_count": 297,
          "metadata": {},
          "output_type": "execute_result"
        }
      ],
      "source": [
        "# mean instrumentalness of explicit and not explicit songs in each continent\n",
        "df_a=df.groupby(['continent','is_explicit'])['instrumentalness'].mean().sort_values(ascending=False).unstack()\n",
        "df_a"
      ]
    },
    {
      "cell_type": "markdown",
      "metadata": {
        "id": "MWQgWMPUBUdv"
      },
      "source": [
        "This table provides insights into the mean instrumentalness of explicit and non-explicit songs within each continent. It allows us to see variations in the instrumental characteristics of songs based on their explicit content across different regions.\n",
        "\n",
        "**Conclusion**: Explicit songs tend to have different mean instrumentalness values in different continents, reflecting variations in musical styles and production techniques."
      ]
    },
    {
      "cell_type": "markdown",
      "metadata": {
        "id": "_w9T5emnBUdv"
      },
      "source": [
        "**Task** As part of the exploratory data analysis (EDA), we want to explore the mean liveness of explicit and non-explicit songs in each continent.\n",
        "\n",
        "**Question** How does the mean liveness differ between explicit and non-explicit songs in different continents?"
      ]
    },
    {
      "cell_type": "code",
      "execution_count": 298,
      "metadata": {
        "id": "u1uX95bLBUdv"
      },
      "outputs": [
        {
          "data": {
            "text/html": [
              "<div>\n",
              "<style scoped>\n",
              "    .dataframe tbody tr th:only-of-type {\n",
              "        vertical-align: middle;\n",
              "    }\n",
              "\n",
              "    .dataframe tbody tr th {\n",
              "        vertical-align: top;\n",
              "    }\n",
              "\n",
              "    .dataframe thead th {\n",
              "        text-align: right;\n",
              "    }\n",
              "</style>\n",
              "<table border=\"1\" class=\"dataframe\">\n",
              "  <thead>\n",
              "    <tr style=\"text-align: right;\">\n",
              "      <th>is_explicit</th>\n",
              "      <th>False</th>\n",
              "      <th>True</th>\n",
              "    </tr>\n",
              "    <tr>\n",
              "      <th>continent</th>\n",
              "      <th></th>\n",
              "      <th></th>\n",
              "    </tr>\n",
              "  </thead>\n",
              "  <tbody>\n",
              "    <tr>\n",
              "      <th>Africa</th>\n",
              "      <td>0.15</td>\n",
              "      <td>0.16</td>\n",
              "    </tr>\n",
              "    <tr>\n",
              "      <th>Asia</th>\n",
              "      <td>0.17</td>\n",
              "      <td>0.15</td>\n",
              "    </tr>\n",
              "    <tr>\n",
              "      <th>Australia</th>\n",
              "      <td>0.15</td>\n",
              "      <td>0.21</td>\n",
              "    </tr>\n",
              "    <tr>\n",
              "      <th>Europe</th>\n",
              "      <td>0.17</td>\n",
              "      <td>0.17</td>\n",
              "    </tr>\n",
              "    <tr>\n",
              "      <th>Global</th>\n",
              "      <td>0.16</td>\n",
              "      <td>0.18</td>\n",
              "    </tr>\n",
              "    <tr>\n",
              "      <th>North America</th>\n",
              "      <td>0.18</td>\n",
              "      <td>0.17</td>\n",
              "    </tr>\n",
              "    <tr>\n",
              "      <th>South America</th>\n",
              "      <td>0.23</td>\n",
              "      <td>0.16</td>\n",
              "    </tr>\n",
              "  </tbody>\n",
              "</table>\n",
              "</div>"
            ],
            "text/plain": [
              "is_explicit   False True \n",
              "continent                \n",
              "Africa         0.15  0.16\n",
              "Asia           0.17  0.15\n",
              "Australia      0.15  0.21\n",
              "Europe         0.17  0.17\n",
              "Global         0.16  0.18\n",
              "North America  0.18  0.17\n",
              "South America  0.23  0.16"
            ]
          },
          "execution_count": 298,
          "metadata": {},
          "output_type": "execute_result"
        }
      ],
      "source": [
        "# mean liveness of explicit and not explicit songs in each continent\n",
        "df_a=df.groupby(['continent','is_explicit'])['liveness'].mean().sort_values(ascending=False).unstack()\n",
        "df_a.map(nf2)"
      ]
    },
    {
      "cell_type": "markdown",
      "metadata": {
        "id": "w6oDSaXWBUdv"
      },
      "source": [
        "This table provides insights into the mean liveness of explicit and non-explicit songs within each continent. It allows us to see variations in the liveness of songs based on their explicit content across different regions.\n",
        "\n",
        "**Conclusion**: Explicit songs tend to have different mean liveness values in different continents, reflecting variations in the live or studio nature of the music in these regions.\n",
        "___"
      ]
    },
    {
      "cell_type": "markdown",
      "metadata": {
        "id": "Yie89Hs9BUdv"
      },
      "source": [
        "**Task** As part of the exploratory data analysis (EDA), we want to analyze the mean valence of explicit and non-explicit songs in each continent.\n",
        "\n",
        "**Question** How does the mean valence differ between explicit and non-explicit songs in different continents?"
      ]
    },
    {
      "cell_type": "code",
      "execution_count": 299,
      "metadata": {
        "id": "EZM6U3CzBUdv"
      },
      "outputs": [
        {
          "data": {
            "text/html": [
              "<div>\n",
              "<style scoped>\n",
              "    .dataframe tbody tr th:only-of-type {\n",
              "        vertical-align: middle;\n",
              "    }\n",
              "\n",
              "    .dataframe tbody tr th {\n",
              "        vertical-align: top;\n",
              "    }\n",
              "\n",
              "    .dataframe thead th {\n",
              "        text-align: right;\n",
              "    }\n",
              "</style>\n",
              "<table border=\"1\" class=\"dataframe\">\n",
              "  <thead>\n",
              "    <tr style=\"text-align: right;\">\n",
              "      <th>is_explicit</th>\n",
              "      <th>False</th>\n",
              "      <th>True</th>\n",
              "    </tr>\n",
              "    <tr>\n",
              "      <th>continent</th>\n",
              "      <th></th>\n",
              "      <th></th>\n",
              "    </tr>\n",
              "  </thead>\n",
              "  <tbody>\n",
              "    <tr>\n",
              "      <th>Africa</th>\n",
              "      <td>0.59</td>\n",
              "      <td>0.55</td>\n",
              "    </tr>\n",
              "    <tr>\n",
              "      <th>Asia</th>\n",
              "      <td>0.48</td>\n",
              "      <td>0.58</td>\n",
              "    </tr>\n",
              "    <tr>\n",
              "      <th>Australia</th>\n",
              "      <td>0.55</td>\n",
              "      <td>0.48</td>\n",
              "    </tr>\n",
              "    <tr>\n",
              "      <th>Europe</th>\n",
              "      <td>0.53</td>\n",
              "      <td>0.51</td>\n",
              "    </tr>\n",
              "    <tr>\n",
              "      <th>Global</th>\n",
              "      <td>0.49</td>\n",
              "      <td>0.50</td>\n",
              "    </tr>\n",
              "    <tr>\n",
              "      <th>North America</th>\n",
              "      <td>0.59</td>\n",
              "      <td>0.50</td>\n",
              "    </tr>\n",
              "    <tr>\n",
              "      <th>South America</th>\n",
              "      <td>0.65</td>\n",
              "      <td>0.55</td>\n",
              "    </tr>\n",
              "  </tbody>\n",
              "</table>\n",
              "</div>"
            ],
            "text/plain": [
              "is_explicit   False True \n",
              "continent                \n",
              "Africa         0.59  0.55\n",
              "Asia           0.48  0.58\n",
              "Australia      0.55  0.48\n",
              "Europe         0.53  0.51\n",
              "Global         0.49  0.50\n",
              "North America  0.59  0.50\n",
              "South America  0.65  0.55"
            ]
          },
          "execution_count": 299,
          "metadata": {},
          "output_type": "execute_result"
        }
      ],
      "source": [
        "# mean valence of explicit and not explicit songs in each continent\n",
        "df_a=df.groupby(['continent','is_explicit'])['valence'].mean().sort_values(ascending=False).unstack()\n",
        "df_a.map(nf2)"
      ]
    },
    {
      "cell_type": "markdown",
      "metadata": {
        "id": "UdrRNq89BUdw"
      },
      "source": [
        "This table provides insights into the mean valence of explicit and non-explicit songs within each continent. It allows us to see variations in the emotional tone or positivity of songs based on their explicit content across different regions.\n",
        "\n",
        "**Conclusion**: Different continents have different mean valence preference for explicit and non-explicit songs.\n",
        "___"
      ]
    },
    {
      "cell_type": "markdown",
      "metadata": {
        "id": "9yoWe1DfBUdw"
      },
      "source": [
        "**Task** As part of the exploratory data analysis (EDA), we want to explore the mean tempo of explicit and non-explicit songs in each continent.\n",
        "\n",
        "**Question** How does the mean tempo differ between explicit and non-explicit songs in different continents?"
      ]
    },
    {
      "cell_type": "code",
      "execution_count": 300,
      "metadata": {
        "id": "bWqdlbsZBUdw"
      },
      "outputs": [
        {
          "data": {
            "text/html": [
              "<div>\n",
              "<style scoped>\n",
              "    .dataframe tbody tr th:only-of-type {\n",
              "        vertical-align: middle;\n",
              "    }\n",
              "\n",
              "    .dataframe tbody tr th {\n",
              "        vertical-align: top;\n",
              "    }\n",
              "\n",
              "    .dataframe thead th {\n",
              "        text-align: right;\n",
              "    }\n",
              "</style>\n",
              "<table border=\"1\" class=\"dataframe\">\n",
              "  <thead>\n",
              "    <tr style=\"text-align: right;\">\n",
              "      <th>is_explicit</th>\n",
              "      <th>False</th>\n",
              "      <th>True</th>\n",
              "    </tr>\n",
              "    <tr>\n",
              "      <th>continent</th>\n",
              "      <th></th>\n",
              "      <th></th>\n",
              "    </tr>\n",
              "  </thead>\n",
              "  <tbody>\n",
              "    <tr>\n",
              "      <th>Africa</th>\n",
              "      <td>118.18</td>\n",
              "      <td>116.66</td>\n",
              "    </tr>\n",
              "    <tr>\n",
              "      <th>Asia</th>\n",
              "      <td>120.46</td>\n",
              "      <td>124.35</td>\n",
              "    </tr>\n",
              "    <tr>\n",
              "      <th>Australia</th>\n",
              "      <td>118.63</td>\n",
              "      <td>132.85</td>\n",
              "    </tr>\n",
              "    <tr>\n",
              "      <th>Europe</th>\n",
              "      <td>124.49</td>\n",
              "      <td>122.48</td>\n",
              "    </tr>\n",
              "    <tr>\n",
              "      <th>Global</th>\n",
              "      <td>114.22</td>\n",
              "      <td>124.99</td>\n",
              "    </tr>\n",
              "    <tr>\n",
              "      <th>North America</th>\n",
              "      <td>125.90</td>\n",
              "      <td>122.14</td>\n",
              "    </tr>\n",
              "    <tr>\n",
              "      <th>South America</th>\n",
              "      <td>122.87</td>\n",
              "      <td>117.22</td>\n",
              "    </tr>\n",
              "  </tbody>\n",
              "</table>\n",
              "</div>"
            ],
            "text/plain": [
              "is_explicit     False   True \n",
              "continent                    \n",
              "Africa         118.18  116.66\n",
              "Asia           120.46  124.35\n",
              "Australia      118.63  132.85\n",
              "Europe         124.49  122.48\n",
              "Global         114.22  124.99\n",
              "North America  125.90  122.14\n",
              "South America  122.87  117.22"
            ]
          },
          "execution_count": 300,
          "metadata": {},
          "output_type": "execute_result"
        }
      ],
      "source": [
        "# mean tempo of explicit and not explicit songs in each continent\n",
        "df_a=df.groupby(['continent','is_explicit'])['tempo'].mean().sort_values(ascending=False).unstack()\n",
        "df_a.map(nf2)"
      ]
    },
    {
      "cell_type": "markdown",
      "metadata": {
        "id": "7-CWaqo4BUdw"
      },
      "source": [
        "This table provides insights into the mean tempo of explicit and non-explicit songs within each continent. It allows us to see variations in the tempo or pace of songs based on their explicit content across different regions.\n",
        "\n",
        "**Conclusion**: Different continents have different mean tempo preference for explicit and non-explicit songs.\n",
        "___"
      ]
    },
    {
      "cell_type": "code",
      "execution_count": 301,
      "metadata": {
        "id": "YoqEid2EBUdw"
      },
      "outputs": [],
      "source": [
        "#redefining the dataframe to explude categorical variables\n",
        "df_a = df[['popularity', 'is_explicit', 'duration_ms', 'danceability', 'energy', 'key', 'loudness', 'mode', 'speechiness', 'acousticness', 'instrumentalness', 'liveness', 'valence', 'tempo']]"
      ]
    },
    {
      "cell_type": "code",
      "execution_count": 302,
      "metadata": {
        "id": "Lry8uiqeBUdw"
      },
      "outputs": [
        {
          "data": {
            "text/html": [
              "<div>\n",
              "<style scoped>\n",
              "    .dataframe tbody tr th:only-of-type {\n",
              "        vertical-align: middle;\n",
              "    }\n",
              "\n",
              "    .dataframe tbody tr th {\n",
              "        vertical-align: top;\n",
              "    }\n",
              "\n",
              "    .dataframe thead th {\n",
              "        text-align: right;\n",
              "    }\n",
              "</style>\n",
              "<table border=\"1\" class=\"dataframe\">\n",
              "  <thead>\n",
              "    <tr style=\"text-align: right;\">\n",
              "      <th></th>\n",
              "      <th>popularity</th>\n",
              "      <th>is_explicit</th>\n",
              "      <th>duration_ms</th>\n",
              "      <th>danceability</th>\n",
              "      <th>energy</th>\n",
              "      <th>key</th>\n",
              "      <th>loudness</th>\n",
              "      <th>mode</th>\n",
              "      <th>speechiness</th>\n",
              "      <th>acousticness</th>\n",
              "      <th>instrumentalness</th>\n",
              "      <th>liveness</th>\n",
              "      <th>valence</th>\n",
              "      <th>tempo</th>\n",
              "    </tr>\n",
              "  </thead>\n",
              "  <tbody>\n",
              "    <tr>\n",
              "      <th>popularity</th>\n",
              "      <td>1.00</td>\n",
              "      <td>0.19</td>\n",
              "      <td>0.04</td>\n",
              "      <td>-0.03</td>\n",
              "      <td>0.01</td>\n",
              "      <td>-0.02</td>\n",
              "      <td>0.15</td>\n",
              "      <td>0.07</td>\n",
              "      <td>-0.07</td>\n",
              "      <td>0.02</td>\n",
              "      <td>-0.04</td>\n",
              "      <td>-0.03</td>\n",
              "      <td>-0.03</td>\n",
              "      <td>0.02</td>\n",
              "    </tr>\n",
              "    <tr>\n",
              "      <th>is_explicit</th>\n",
              "      <td>0.19</td>\n",
              "      <td>1.00</td>\n",
              "      <td>0.02</td>\n",
              "      <td>0.34</td>\n",
              "      <td>0.13</td>\n",
              "      <td>-0.04</td>\n",
              "      <td>0.15</td>\n",
              "      <td>-0.05</td>\n",
              "      <td>0.32</td>\n",
              "      <td>-0.17</td>\n",
              "      <td>-0.00</td>\n",
              "      <td>-0.02</td>\n",
              "      <td>-0.03</td>\n",
              "      <td>-0.01</td>\n",
              "    </tr>\n",
              "    <tr>\n",
              "      <th>duration_ms</th>\n",
              "      <td>0.04</td>\n",
              "      <td>0.02</td>\n",
              "      <td>1.00</td>\n",
              "      <td>-0.21</td>\n",
              "      <td>-0.08</td>\n",
              "      <td>-0.06</td>\n",
              "      <td>-0.05</td>\n",
              "      <td>0.07</td>\n",
              "      <td>0.00</td>\n",
              "      <td>0.05</td>\n",
              "      <td>-0.01</td>\n",
              "      <td>-0.03</td>\n",
              "      <td>-0.17</td>\n",
              "      <td>-0.03</td>\n",
              "    </tr>\n",
              "    <tr>\n",
              "      <th>danceability</th>\n",
              "      <td>-0.03</td>\n",
              "      <td>0.34</td>\n",
              "      <td>-0.21</td>\n",
              "      <td>1.00</td>\n",
              "      <td>0.23</td>\n",
              "      <td>-0.01</td>\n",
              "      <td>0.23</td>\n",
              "      <td>-0.16</td>\n",
              "      <td>0.23</td>\n",
              "      <td>-0.29</td>\n",
              "      <td>-0.07</td>\n",
              "      <td>-0.11</td>\n",
              "      <td>0.36</td>\n",
              "      <td>-0.15</td>\n",
              "    </tr>\n",
              "    <tr>\n",
              "      <th>energy</th>\n",
              "      <td>0.01</td>\n",
              "      <td>0.13</td>\n",
              "      <td>-0.08</td>\n",
              "      <td>0.23</td>\n",
              "      <td>1.00</td>\n",
              "      <td>0.09</td>\n",
              "      <td>0.76</td>\n",
              "      <td>-0.05</td>\n",
              "      <td>0.00</td>\n",
              "      <td>-0.58</td>\n",
              "      <td>0.00</td>\n",
              "      <td>0.10</td>\n",
              "      <td>0.35</td>\n",
              "      <td>0.10</td>\n",
              "    </tr>\n",
              "    <tr>\n",
              "      <th>key</th>\n",
              "      <td>-0.02</td>\n",
              "      <td>-0.04</td>\n",
              "      <td>-0.06</td>\n",
              "      <td>-0.01</td>\n",
              "      <td>0.09</td>\n",
              "      <td>1.00</td>\n",
              "      <td>0.04</td>\n",
              "      <td>-0.06</td>\n",
              "      <td>-0.04</td>\n",
              "      <td>0.00</td>\n",
              "      <td>0.02</td>\n",
              "      <td>0.01</td>\n",
              "      <td>0.10</td>\n",
              "      <td>0.12</td>\n",
              "    </tr>\n",
              "    <tr>\n",
              "      <th>loudness</th>\n",
              "      <td>0.15</td>\n",
              "      <td>0.15</td>\n",
              "      <td>-0.05</td>\n",
              "      <td>0.23</td>\n",
              "      <td>0.76</td>\n",
              "      <td>0.04</td>\n",
              "      <td>1.00</td>\n",
              "      <td>-0.03</td>\n",
              "      <td>-0.07</td>\n",
              "      <td>-0.46</td>\n",
              "      <td>-0.12</td>\n",
              "      <td>0.07</td>\n",
              "      <td>0.31</td>\n",
              "      <td>0.05</td>\n",
              "    </tr>\n",
              "    <tr>\n",
              "      <th>mode</th>\n",
              "      <td>0.07</td>\n",
              "      <td>-0.05</td>\n",
              "      <td>0.07</td>\n",
              "      <td>-0.16</td>\n",
              "      <td>-0.05</td>\n",
              "      <td>-0.06</td>\n",
              "      <td>-0.03</td>\n",
              "      <td>1.00</td>\n",
              "      <td>-0.04</td>\n",
              "      <td>-0.01</td>\n",
              "      <td>-0.01</td>\n",
              "      <td>-0.03</td>\n",
              "      <td>-0.06</td>\n",
              "      <td>-0.05</td>\n",
              "    </tr>\n",
              "    <tr>\n",
              "      <th>speechiness</th>\n",
              "      <td>-0.07</td>\n",
              "      <td>0.32</td>\n",
              "      <td>0.00</td>\n",
              "      <td>0.23</td>\n",
              "      <td>0.00</td>\n",
              "      <td>-0.04</td>\n",
              "      <td>-0.07</td>\n",
              "      <td>-0.04</td>\n",
              "      <td>1.00</td>\n",
              "      <td>-0.04</td>\n",
              "      <td>-0.03</td>\n",
              "      <td>-0.01</td>\n",
              "      <td>0.01</td>\n",
              "      <td>0.09</td>\n",
              "    </tr>\n",
              "    <tr>\n",
              "      <th>acousticness</th>\n",
              "      <td>0.02</td>\n",
              "      <td>-0.17</td>\n",
              "      <td>0.05</td>\n",
              "      <td>-0.29</td>\n",
              "      <td>-0.58</td>\n",
              "      <td>0.00</td>\n",
              "      <td>-0.46</td>\n",
              "      <td>-0.01</td>\n",
              "      <td>-0.04</td>\n",
              "      <td>1.00</td>\n",
              "      <td>0.01</td>\n",
              "      <td>-0.06</td>\n",
              "      <td>-0.18</td>\n",
              "      <td>-0.02</td>\n",
              "    </tr>\n",
              "    <tr>\n",
              "      <th>instrumentalness</th>\n",
              "      <td>-0.04</td>\n",
              "      <td>-0.00</td>\n",
              "      <td>-0.01</td>\n",
              "      <td>-0.07</td>\n",
              "      <td>0.00</td>\n",
              "      <td>0.02</td>\n",
              "      <td>-0.12</td>\n",
              "      <td>-0.01</td>\n",
              "      <td>-0.03</td>\n",
              "      <td>0.01</td>\n",
              "      <td>1.00</td>\n",
              "      <td>-0.02</td>\n",
              "      <td>-0.13</td>\n",
              "      <td>0.03</td>\n",
              "    </tr>\n",
              "    <tr>\n",
              "      <th>liveness</th>\n",
              "      <td>-0.03</td>\n",
              "      <td>-0.02</td>\n",
              "      <td>-0.03</td>\n",
              "      <td>-0.11</td>\n",
              "      <td>0.10</td>\n",
              "      <td>0.01</td>\n",
              "      <td>0.07</td>\n",
              "      <td>-0.03</td>\n",
              "      <td>-0.01</td>\n",
              "      <td>-0.06</td>\n",
              "      <td>-0.02</td>\n",
              "      <td>1.00</td>\n",
              "      <td>-0.01</td>\n",
              "      <td>0.08</td>\n",
              "    </tr>\n",
              "    <tr>\n",
              "      <th>valence</th>\n",
              "      <td>-0.03</td>\n",
              "      <td>-0.03</td>\n",
              "      <td>-0.17</td>\n",
              "      <td>0.36</td>\n",
              "      <td>0.35</td>\n",
              "      <td>0.10</td>\n",
              "      <td>0.31</td>\n",
              "      <td>-0.06</td>\n",
              "      <td>0.01</td>\n",
              "      <td>-0.18</td>\n",
              "      <td>-0.13</td>\n",
              "      <td>-0.01</td>\n",
              "      <td>1.00</td>\n",
              "      <td>0.03</td>\n",
              "    </tr>\n",
              "    <tr>\n",
              "      <th>tempo</th>\n",
              "      <td>0.02</td>\n",
              "      <td>-0.01</td>\n",
              "      <td>-0.03</td>\n",
              "      <td>-0.15</td>\n",
              "      <td>0.10</td>\n",
              "      <td>0.12</td>\n",
              "      <td>0.05</td>\n",
              "      <td>-0.05</td>\n",
              "      <td>0.09</td>\n",
              "      <td>-0.02</td>\n",
              "      <td>0.03</td>\n",
              "      <td>0.08</td>\n",
              "      <td>0.03</td>\n",
              "      <td>1.00</td>\n",
              "    </tr>\n",
              "  </tbody>\n",
              "</table>\n",
              "</div>"
            ],
            "text/plain": [
              "                 popularity is_explicit duration_ms danceability energy  \\\n",
              "popularity             1.00        0.19        0.04        -0.03   0.01   \n",
              "is_explicit            0.19        1.00        0.02         0.34   0.13   \n",
              "duration_ms            0.04        0.02        1.00        -0.21  -0.08   \n",
              "danceability          -0.03        0.34       -0.21         1.00   0.23   \n",
              "energy                 0.01        0.13       -0.08         0.23   1.00   \n",
              "key                   -0.02       -0.04       -0.06        -0.01   0.09   \n",
              "loudness               0.15        0.15       -0.05         0.23   0.76   \n",
              "mode                   0.07       -0.05        0.07        -0.16  -0.05   \n",
              "speechiness           -0.07        0.32        0.00         0.23   0.00   \n",
              "acousticness           0.02       -0.17        0.05        -0.29  -0.58   \n",
              "instrumentalness      -0.04       -0.00       -0.01        -0.07   0.00   \n",
              "liveness              -0.03       -0.02       -0.03        -0.11   0.10   \n",
              "valence               -0.03       -0.03       -0.17         0.36   0.35   \n",
              "tempo                  0.02       -0.01       -0.03        -0.15   0.10   \n",
              "\n",
              "                    key loudness   mode speechiness acousticness  \\\n",
              "popularity        -0.02     0.15   0.07       -0.07         0.02   \n",
              "is_explicit       -0.04     0.15  -0.05        0.32        -0.17   \n",
              "duration_ms       -0.06    -0.05   0.07        0.00         0.05   \n",
              "danceability      -0.01     0.23  -0.16        0.23        -0.29   \n",
              "energy             0.09     0.76  -0.05        0.00        -0.58   \n",
              "key                1.00     0.04  -0.06       -0.04         0.00   \n",
              "loudness           0.04     1.00  -0.03       -0.07        -0.46   \n",
              "mode              -0.06    -0.03   1.00       -0.04        -0.01   \n",
              "speechiness       -0.04    -0.07  -0.04        1.00        -0.04   \n",
              "acousticness       0.00    -0.46  -0.01       -0.04         1.00   \n",
              "instrumentalness   0.02    -0.12  -0.01       -0.03         0.01   \n",
              "liveness           0.01     0.07  -0.03       -0.01        -0.06   \n",
              "valence            0.10     0.31  -0.06        0.01        -0.18   \n",
              "tempo              0.12     0.05  -0.05        0.09        -0.02   \n",
              "\n",
              "                 instrumentalness liveness valence  tempo  \n",
              "popularity                  -0.04    -0.03   -0.03   0.02  \n",
              "is_explicit                 -0.00    -0.02   -0.03  -0.01  \n",
              "duration_ms                 -0.01    -0.03   -0.17  -0.03  \n",
              "danceability                -0.07    -0.11    0.36  -0.15  \n",
              "energy                       0.00     0.10    0.35   0.10  \n",
              "key                          0.02     0.01    0.10   0.12  \n",
              "loudness                    -0.12     0.07    0.31   0.05  \n",
              "mode                        -0.01    -0.03   -0.06  -0.05  \n",
              "speechiness                 -0.03    -0.01    0.01   0.09  \n",
              "acousticness                 0.01    -0.06   -0.18  -0.02  \n",
              "instrumentalness             1.00    -0.02   -0.13   0.03  \n",
              "liveness                    -0.02     1.00   -0.01   0.08  \n",
              "valence                     -0.13    -0.01    1.00   0.03  \n",
              "tempo                        0.03     0.08    0.03   1.00  "
            ]
          },
          "execution_count": 302,
          "metadata": {},
          "output_type": "execute_result"
        }
      ],
      "source": [
        "# correlation of different musical aspects amoung themselves\n",
        "df_a = df_a.corr()\n",
        "df_a.map(nf2)"
      ]
    },
    {
      "cell_type": "code",
      "execution_count": 303,
      "metadata": {
        "id": "9LuUltHJBUdx"
      },
      "outputs": [
        {
          "data": {
            "text/plain": [
              "<Axes: >"
            ]
          },
          "execution_count": 303,
          "metadata": {},
          "output_type": "execute_result"
        },
        {
          "data": {
            "image/png": "[encoded data removed]",
            "text/plain": [
              "<Figure size 640x480 with 2 Axes>"
            ]
          },
          "metadata": {},
          "output_type": "display_data"
        }
      ],
      "source": [
        "sns.heatmap(df_a.corr(),annot=True, cmap='coolwarm', fmt=\".1f\")"
      ]
    },
    {
      "cell_type": "markdown",
      "metadata": {
        "id": "Ll91Sa8YBUdx"
      },
      "source": [
        "**Conclusion:**\n",
        "\n",
        "The provided correlation matrix describes the relationships between various attributes of the dataset, with a focus on how they correlate with one another. Each cell in the matrix represents the correlation coefficient between two attributes. Here's an interpretation of the correlations:\n",
        "\n",
        "1. **Popularity**:\n",
        "   - It has a weak positive correlation with `is_explicit` (0.186), indicating that more popular songs are slightly more likely to be explicit.\n",
        "   - There is a very weak positive correlation with `loudness` (0.146), suggesting that more popular songs tend to be slightly louder.\n",
        "   - Popularity has very weak correlations with other attributes.\n",
        "\n",
        "2. **Is_Explicit**:\n",
        "   - It has a moderate positive correlation with attributes like `danceability` (0.335), `energy` (0.129), and `speechiness` (0.316), suggesting that explicit songs may be more energetic and have more speech content.\n",
        "   - It has a moderate negative correlation with `acousticness` (-0.170), indicating that explicit songs tend to have lower acoustic characteristics.\n",
        "\n",
        "3. **Duration_ms**:\n",
        "   - It has a weak negative correlation with attributes like `danceability` (-0.209) and `acousticness` (-0.288), suggesting that shorter songs may be less danceable and have lower acoustic characteristics.\n",
        "   - It has a weak positive correlation with `tempo` (0.048), implying that shorter songs may have a slightly faster tempo.\n",
        "\n",
        "4. **Danceability**:\n",
        "   - It has a moderate positive correlation with `is_explicit` (0.335) and `energy` (0.231), indicating that more danceable songs may also be more explicit and energetic.\n",
        "   - It has a moderate negative correlation with `acousticness` (-0.289), suggesting that less danceable songs tend to have higher acoustic characteristics.\n",
        "\n",
        "5. **Energy**:\n",
        "   - It has a strong positive correlation with `loudness` (0.761), indicating that songs with higher energy are typically louder.\n",
        "   - It has a strong negative correlation with `acousticness` (-0.581), implying that more energetic songs are less acoustic.\n",
        "\n",
        "6. **Key**, **Loudness**, **Mode**, **Speechiness**, **Acousticness**, **Instrumentalness**, **Liveness**, **Valence**, **Tempo**:\n",
        "   - These attributes show various weak correlations with each other and with the other attributes. The relationships are not as strong as those mentioned above.\n",
        "\n",
        "The correlation matrix helps us understand how different attributes relate to each other and can guide feature selection for further analysis or modeling. For example, if you want to predict the popularity of songs, you might consider attributes like `danceability`, `energy`, and `loudness` due to their correlations with popularity."
      ]
    },
    {
      "cell_type": "markdown",
      "metadata": {},
      "source": [
        "# Visualizations"
      ]
    },
    {
      "cell_type": "markdown",
      "metadata": {},
      "source": [
        "# Data Insights"
      ]
    },
    {
      "cell_type": "markdown",
      "metadata": {},
      "source": [
        "### Q1. Which artists have the most songs in the dataset, and how does their popularity compare?"
      ]
    },
    {
      "cell_type": "code",
      "execution_count": 304,
      "metadata": {},
      "outputs": [
        {
          "data": {
            "image/png": "[encoded data removed]",
            "text/plain": [
              "<Figure size 1200x600 with 1 Axes>"
            ]
          },
          "metadata": {},
          "output_type": "display_data"
        }
      ],
      "source": [
        "# Group by artists and calculate the average popularity for each artist\n",
        "artist_popularity = df.groupby('artists')['popularity'].mean().reset_index()\n",
        "\n",
        "# Sort by popularity to find the top artists\n",
        "top_artists = artist_popularity.nlargest(10, 'popularity')\n",
        "\n",
        "plt.figure(figsize=(12, 6))\n",
        "sns.barplot(x='artists', y='popularity', data=top_artists)\n",
        "plt.xlabel('Artist')\n",
        "plt.ylabel('Average Popularity')\n",
        "plt.title('Top 10 Artists by Average Popularity')\n",
        "plt.xticks(rotation=45)\n",
        "plt.show()"
      ]
    },
    {
      "cell_type": "markdown",
      "metadata": {},
      "source": [
        "### Q2. What are the top 10 countries by average popularity "
      ]
    },
    {
      "cell_type": "code",
      "execution_count": 305,
      "metadata": {},
      "outputs": [
        {
          "data": {
            "image/png": "[encoded data removed]",
            "text/plain": [
              "<Figure size 1200x600 with 1 Axes>"
            ]
          },
          "metadata": {},
          "output_type": "display_data"
        }
      ],
      "source": [
        "# Group by artists and calculate the average popularity for each artist\n",
        "artist_popularity = df.groupby('country')['popularity'].mean().reset_index()\n",
        "\n",
        "# Sort by popularity to find the top artists\n",
        "top_artists = artist_popularity.nlargest(10, 'popularity')\n",
        "\n",
        "plt.figure(figsize=(12, 6))\n",
        "sns.barplot(x='country', y='popularity', data=top_artists)\n",
        "plt.xlabel('Country')\n",
        "plt.ylabel('Average Popularity')\n",
        "plt.title('Top 10 Countries by Average Popularity')\n",
        "plt.xticks(rotation=45)\n",
        "plt.show()"
      ]
    },
    {
      "cell_type": "markdown",
      "metadata": {},
      "source": [
        "### Q3. What are the characteristics of music liked by top 5 most listening countries?"
      ]
    },
    {
      "cell_type": "code",
      "execution_count": 306,
      "metadata": {},
      "outputs": [
        {
          "name": "stdout",
          "output_type": "stream",
          "text": [
            "            country_name  popularity  danceability    energy  loudness  \\\n",
            "0              Argentina   84.038182      0.750560  0.663840 -5.419995   \n",
            "1              Australia   89.753623      0.642707  0.644527 -6.779313   \n",
            "2                Austria   80.889693      0.688548  0.642875 -7.077613   \n",
            "3                Belarus   64.961957      0.675984  0.659953 -6.591714   \n",
            "4                Belgium   84.838475      0.651401  0.658619 -6.496120   \n",
            "5                Bolivia   87.353902      0.732494  0.690543 -5.178497   \n",
            "6                 Brazil   80.633394      0.682508  0.746376 -4.823911   \n",
            "7               Bulgaria   61.230072      0.714871  0.764817 -5.387187   \n",
            "8                 Canada   89.590580      0.644024  0.611093 -6.938591   \n",
            "9                  Chile   83.519056      0.766191  0.682132 -5.809167   \n",
            "10              Colombia   86.012681      0.761315  0.689027 -5.183514   \n",
            "11            Costa Rica   87.280797      0.738359  0.665614 -5.352569   \n",
            "12        Czech Republic   69.052727      0.709880  0.627425 -8.618613   \n",
            "13               Denmark   68.938294      0.713846  0.660071 -6.419773   \n",
            "14    Dominican Republic   84.956600      0.765224  0.674792 -5.320910   \n",
            "15               Ecuador   88.446461      0.767258  0.690372 -5.288296   \n",
            "16                 Egypt   63.235935      0.717432  0.671102 -6.478064   \n",
            "17           El Salvador   88.150362      0.748853  0.677938 -5.337371   \n",
            "18               Estonia   73.698730      0.672488  0.685095 -7.114766   \n",
            "19               Finland   64.509091      0.721685  0.676447 -6.207984   \n",
            "20                France   78.455535      0.705642  0.667379 -6.621535   \n",
            "21               Germany   76.595281      0.693677  0.652633 -7.136501   \n",
            "22                Global   91.483696      0.668464  0.644721 -6.491062   \n",
            "23                Greece   66.047016      0.726141  0.654542 -7.291385   \n",
            "24             Guatemala   87.342391      0.738411  0.689286 -5.359576   \n",
            "25              Honduras   87.949367      0.745651  0.682830 -5.296857   \n",
            "26             Hong Kong   71.650995      0.613732  0.640957 -6.472092   \n",
            "27               Hungary   64.757246      0.718897  0.654739 -7.137629   \n",
            "28               Iceland   63.483696      0.677132  0.483122 -9.011888   \n",
            "29                 India   77.094374      0.681272  0.618672 -6.977454   \n",
            "30             Indonesia   81.339383      0.530093  0.529583 -7.944256   \n",
            "31               Ireland   86.971014      0.613255  0.630053 -7.383183   \n",
            "32                Israel   62.748188      0.598121  0.525976 -8.249730   \n",
            "33                 Italy   74.070780      0.705699  0.689637 -6.147060   \n",
            "34                 Japan   72.689091      0.598035  0.752567 -4.964207   \n",
            "35            Kazakhstan   68.074410      0.735083  0.596140 -7.744132   \n",
            "36                Latvia   86.265823      0.666174  0.638123 -7.326562   \n",
            "37             Lithuania   78.590580      0.711366  0.641214 -7.300116   \n",
            "38            Luxembourg   87.409190      0.686031  0.660326 -6.464930   \n",
            "39              Malaysia   84.434545      0.594996  0.568667 -7.092013   \n",
            "40                Mexico   85.869565      0.730203  0.705748 -5.581386   \n",
            "41               Morocco   68.452899      0.700795  0.615172 -7.838766   \n",
            "42           Netherlands   78.212341      0.642593  0.691882 -6.499898   \n",
            "43           New Zealand   87.214156      0.652730  0.649124 -6.655109   \n",
            "44             Nicaragua   87.918626      0.745888  0.668069 -5.228159   \n",
            "45               Nigeria   65.397459      0.770142  0.673007 -7.402430   \n",
            "46                Norway   76.032668      0.626644  0.604392 -7.407390   \n",
            "47              Pakistan   78.379747      0.720861  0.580336 -7.742156   \n",
            "48                Panama   83.436594      0.749174  0.676554 -5.312708   \n",
            "49              Paraguay   86.689655      0.713583  0.670877 -5.396575   \n",
            "50                  Peru   87.513612      0.760708  0.685688 -5.236403   \n",
            "51           Philippines   82.821818      0.639082  0.556717 -7.716687   \n",
            "52                Poland   73.108893      0.677466  0.667768 -7.005033   \n",
            "53              Portugal   76.967273      0.712220  0.561149 -7.603433   \n",
            "54               Romania   63.681736      0.748886  0.695036 -6.040056   \n",
            "55          Saudi Arabia   84.608696      0.623344  0.647663 -7.030210   \n",
            "56             Singapore   85.652174      0.647938  0.641643 -6.426252   \n",
            "57              Slovakia   68.388788      0.716398  0.607949 -8.297817   \n",
            "58          South Africa   66.380180      0.720241  0.585158 -9.540454   \n",
            "59           South Korea   78.282098      0.669483  0.651521 -5.772557   \n",
            "60                 Spain   84.449091      0.736278  0.691273 -5.355116   \n",
            "61                Sweden   72.320000      0.609324  0.538494 -8.390251   \n",
            "62           Switzerland   86.980072      0.670252  0.633120 -6.641701   \n",
            "63                Taiwan   75.168478      0.615772  0.618428 -6.456897   \n",
            "64              Thailand   72.949275      0.632217  0.620583 -6.854197   \n",
            "65                Turkey   75.802178      0.642367  0.653388 -7.821390   \n",
            "66               Ukraine   69.998185      0.715675  0.649753 -7.108726   \n",
            "67  United Arab Emirates   88.162749      0.655933  0.640362 -6.727378   \n",
            "68        United Kingdom   88.729091      0.629484  0.670298 -6.608893   \n",
            "69         United States   89.934901      0.643566  0.618785 -6.759929   \n",
            "70               Uruguay   83.221818      0.744929  0.663244 -5.420180   \n",
            "71             Venezuela   88.163043      0.759368  0.672801 -5.474721   \n",
            "72               Vietnam   68.099819      0.709123  0.525260 -8.622105   \n",
            "\n",
            "    speechiness       key      mode  acousticness  instrumentalness  liveness  \\\n",
            "0      0.112780  5.994545  0.567273      0.264675          0.000091  0.179830   \n",
            "1      0.088581  5.112319  0.688406      0.255797          0.007676  0.184503   \n",
            "2      0.125412  5.245931  0.493671      0.251684          0.020915  0.166087   \n",
            "3      0.094681  4.791667  0.447464      0.188455          0.045957  0.229327   \n",
            "4      0.084473  5.012704  0.435572      0.323027          0.030003  0.163293   \n",
            "5      0.108557  5.798548  0.464610      0.280281          0.005917  0.190372   \n",
            "6      0.123892  5.885662  0.557169      0.364703          0.017495  0.376592   \n",
            "7      0.148094  5.246377  0.295290      0.152976          0.003830  0.154231   \n",
            "8      0.093609  5.693841  0.570652      0.276363          0.006293  0.184710   \n",
            "9      0.113633  5.789474  0.435572      0.240458          0.007395  0.157226   \n",
            "10     0.131837  5.436594  0.356884      0.278896          0.012715  0.166514   \n",
            "11     0.143572  5.610507  0.501812      0.299599          0.012696  0.169855   \n",
            "12     0.162525  5.294545  0.370909      0.232168          0.020861  0.158402   \n",
            "13     0.150105  5.604356  0.430127      0.203002          0.000422  0.153242   \n",
            "14     0.173326  4.963834  0.430380      0.300313          0.027915  0.159952   \n",
            "15     0.135062  5.415608  0.426497      0.276414          0.017172  0.169202   \n",
            "16     0.090670  5.052632  0.270417      0.370394          0.009517  0.174325   \n",
            "17     0.139014  5.686594  0.427536      0.267837          0.019671  0.171283   \n",
            "18     0.097624  5.709619  0.439201      0.186512          0.053860  0.184698   \n",
            "19     0.096756  6.198182  0.414545      0.191062          0.023418  0.176322   \n",
            "20     0.144025  5.680581  0.215971      0.293535          0.010056  0.147542   \n",
            "21     0.150326  5.272232  0.442831      0.235661          0.020309  0.163719   \n",
            "22     0.102253  5.373188  0.548913      0.284273          0.012372  0.168224   \n",
            "23     0.146028  5.887884  0.350814      0.292373          0.004932  0.167705   \n",
            "24     0.111606  5.771739  0.490942      0.273531          0.012797  0.161584   \n",
            "25     0.136073  5.873418  0.482821      0.275449          0.012671  0.174972   \n",
            "26     0.069944  6.012658  0.636528      0.345990          0.002203  0.144410   \n",
            "27     0.120571  5.710145  0.317029      0.308197          0.012393  0.152183   \n",
            "28     0.068191  5.445652  0.579710      0.423877          0.014467  0.166696   \n",
            "29     0.080080  5.076225  0.564428      0.381359          0.011279  0.159677   \n",
            "30     0.042346  5.119782  0.856624      0.511742          0.033169  0.152855   \n",
            "31     0.075890  5.007246  0.559783      0.307786          0.014553  0.171682   \n",
            "32     0.075540  4.873188  0.340580      0.449816          0.000983  0.218191   \n",
            "33     0.102013  5.698730  0.553539      0.203400          0.013671  0.166711   \n",
            "34     0.065635  5.550909  0.780000      0.149700          0.000250  0.197151   \n",
            "35     0.149989  5.798548  0.431942      0.385672          0.081542  0.159226   \n",
            "36     0.100708  5.649186  0.546112      0.219625          0.035950  0.195439   \n",
            "37     0.092482  5.873188  0.396739      0.221927          0.036770  0.164747   \n",
            "38     0.116469  4.827133  0.341357      0.273521          0.009824  0.167428   \n",
            "39     0.065057  5.612727  0.727273      0.390107          0.011391  0.153612   \n",
            "40     0.088517  6.541667  0.490942      0.245127          0.013051  0.161117   \n",
            "41     0.155168  7.063406  0.260870      0.409050          0.003863  0.137153   \n",
            "42     0.077064  5.707804  0.424682      0.232841          0.022203  0.159592   \n",
            "43     0.092958  5.154265  0.656987      0.224561          0.006332  0.159589   \n",
            "44     0.133881  5.654611  0.473779      0.287255          0.012673  0.173761   \n",
            "45     0.145939  5.744102  0.515426      0.222290          0.022100  0.160629   \n",
            "46     0.092943  5.678766  0.444646      0.300329          0.030578  0.210299   \n",
            "47     0.103707  4.830018  0.490054      0.373756          0.007508  0.141354   \n",
            "48     0.174216  5.322464  0.398551      0.291761          0.012703  0.161623   \n",
            "49     0.117125  5.936479  0.519056      0.268454          0.015278  0.186693   \n",
            "50     0.122954  5.317604  0.477314      0.262958          0.014980  0.176848   \n",
            "51     0.056080  5.436364  0.649091      0.355539          0.019322  0.141720   \n",
            "52     0.130265  5.531760  0.462795      0.264853          0.007269  0.177642   \n",
            "53     0.173525  5.249091  0.349091      0.466039          0.020511  0.199193   \n",
            "54     0.127284  5.902351  0.470163      0.250938          0.007389  0.166745   \n",
            "55     0.078403  5.371377  0.509058      0.309789          0.078127  0.147908   \n",
            "56     0.060779  5.894928  0.594203      0.255254          0.010714  0.178950   \n",
            "57     0.186006  5.321881  0.405063      0.244301          0.028717  0.157634   \n",
            "58     0.122047  5.111712  0.500901      0.177635          0.080367  0.147890   \n",
            "59     0.067616  4.949367  0.538879      0.293770          0.018065  0.186282   \n",
            "60     0.140955  5.420000  0.381818      0.305397          0.013169  0.175640   \n",
            "61     0.121009  5.609091  0.585455      0.411284          0.032644  0.137997   \n",
            "62     0.103709  4.599638  0.438406      0.292664          0.018491  0.167701   \n",
            "63     0.058830  5.932971  0.653986      0.329332          0.000162  0.165703   \n",
            "64     0.062829  6.320652  0.817029      0.307127          0.011888  0.173256   \n",
            "65     0.113530  6.159710  0.156080      0.295337          0.003098  0.186367   \n",
            "66     0.105508  6.364791  0.402904      0.287384          0.080638  0.172960   \n",
            "67     0.086820  4.813743  0.569620      0.230162          0.015480  0.162992   \n",
            "68     0.098975  4.621818  0.609091      0.254065          0.014087  0.173780   \n",
            "69     0.103815  5.576854  0.566004      0.275245          0.006998  0.193894   \n",
            "70     0.112245  6.018182  0.630909      0.239900          0.000091  0.174515   \n",
            "71     0.151426  5.612319  0.418478      0.291194          0.012904  0.168775   \n",
            "72     0.082527  5.568058  0.607985      0.501118          0.023712  0.169994   \n",
            "\n",
            "     valence       tempo  \n",
            "0   0.630049  114.330511  \n",
            "1   0.513724  124.252027  \n",
            "2   0.487552  125.304266  \n",
            "3   0.519687  123.223743  \n",
            "4   0.517904  127.270147  \n",
            "5   0.613862  124.273982  \n",
            "6   0.664929  133.083466  \n",
            "7   0.626192  133.601031  \n",
            "8   0.463697  123.964317  \n",
            "9   0.618109  111.819503  \n",
            "10  0.548617  118.615060  \n",
            "11  0.525728  123.049502  \n",
            "12  0.473656  130.572193  \n",
            "13  0.589432  117.732657  \n",
            "14  0.497483  123.208973  \n",
            "15  0.568599  120.686452  \n",
            "16  0.636877  120.928363  \n",
            "17  0.527596  122.531158  \n",
            "18  0.496728  125.473996  \n",
            "19  0.623533  117.314653  \n",
            "20  0.576506  124.658668  \n",
            "21  0.474889  126.256454  \n",
            "22  0.497390  119.858261  \n",
            "23  0.515803  111.005329  \n",
            "24  0.600417  126.020897  \n",
            "25  0.527554  121.812376  \n",
            "26  0.496192  133.510899  \n",
            "27  0.511261  116.250833  \n",
            "28  0.504847  120.815091  \n",
            "29  0.525512  108.292149  \n",
            "30  0.399359  117.709713  \n",
            "31  0.480674  125.182478  \n",
            "32  0.439874  121.341094  \n",
            "33  0.526613  115.766156  \n",
            "34  0.613538  129.734207  \n",
            "35  0.515308  122.087506  \n",
            "36  0.501153  120.582617  \n",
            "37  0.544471  118.904179  \n",
            "38  0.530488  124.426867  \n",
            "39  0.440220  121.055073  \n",
            "40  0.676243  127.827172  \n",
            "41  0.569497  117.052837  \n",
            "42  0.508721  129.411508  \n",
            "43  0.536630  123.754407  \n",
            "44  0.530492  120.447250  \n",
            "45  0.627515  117.233873  \n",
            "46  0.486711  125.313218  \n",
            "47  0.552438  109.346618  \n",
            "48  0.521839  121.539556  \n",
            "49  0.580877  122.429788  \n",
            "50  0.572915  118.655768  \n",
            "51  0.451294  119.083562  \n",
            "52  0.521348  123.039327  \n",
            "53  0.509680  126.229789  \n",
            "54  0.556067  132.350174  \n",
            "55  0.466164  119.323453  \n",
            "56  0.515109  119.959467  \n",
            "57  0.455011  130.933779  \n",
            "58  0.478274  115.523804  \n",
            "59  0.513472  116.524347  \n",
            "60  0.544979  126.352211  \n",
            "61  0.473784  123.775625  \n",
            "62  0.487170  119.546467  \n",
            "63  0.481307  124.045487  \n",
            "64  0.515326  132.772263  \n",
            "65  0.527534  124.689730  \n",
            "66  0.510606  121.370564  \n",
            "67  0.497964  116.938821  \n",
            "68  0.486353  122.871318  \n",
            "69  0.456690  124.289382  \n",
            "70  0.639562  112.891649  \n",
            "71  0.524553  121.672328  \n",
            "72  0.495338  121.777684  \n"
          ]
        }
      ],
      "source": [
        "# Assuming you have a DataFrame called 'df' with columns \"country_name\", \"popularity\", \"danceability\", \"energy\", \"loudness\", \"speechiness\".\n",
        "\n",
        "# Group the DataFrame by the unique values in \"country_name\" and calculate the mean values for selected columns.\n",
        "mean = df.groupby(\"country_name\")[['popularity', 'danceability', 'energy', 'loudness', 'speechiness', 'key', 'mode', 'acousticness', 'instrumentalness', 'liveness', 'valence', 'tempo']].mean().reset_index()\n",
        "\n",
        "# Print or display the resulting DataFrame with mean values\n",
        "print(mean)\n"
      ]
    },
    {
      "cell_type": "code",
      "execution_count": 307,
      "metadata": {},
      "outputs": [],
      "source": [
        "top_countries = mean.nlargest(5, 'popularity')['country_name']\n",
        "top_countries_df = mean[mean['country_name'].isin(top_countries)].copy()"
      ]
    },
    {
      "cell_type": "code",
      "execution_count": 308,
      "metadata": {},
      "outputs": [
        {
          "name": "stdout",
          "output_type": "stream",
          "text": [
            "      country_name  popularity  danceability    energy  loudness  speechiness  \\\n",
            "1        Australia   89.753623      0.642707  0.644527 -6.779313     0.088581   \n",
            "8           Canada   89.590580      0.644024  0.611093 -6.938591     0.093609   \n",
            "22          Global   91.483696      0.668464  0.644721 -6.491062     0.102253   \n",
            "68  United Kingdom   88.729091      0.629484  0.670298 -6.608893     0.098975   \n",
            "69   United States   89.934901      0.643566  0.618785 -6.759929     0.103815   \n",
            "\n",
            "         key      mode  acousticness  instrumentalness  liveness   valence  \\\n",
            "1   5.112319  0.688406      0.255797          0.007676  0.184503  0.513724   \n",
            "8   5.693841  0.570652      0.276363          0.006293  0.184710  0.463697   \n",
            "22  5.373188  0.548913      0.284273          0.012372  0.168224  0.497390   \n",
            "68  4.621818  0.609091      0.254065          0.014087  0.173780  0.486353   \n",
            "69  5.576854  0.566004      0.275245          0.006998  0.193894  0.456690   \n",
            "\n",
            "         tempo  \n",
            "1   124.252027  \n",
            "8   123.964317  \n",
            "22  119.858261  \n",
            "68  122.871318  \n",
            "69  124.289382  \n"
          ]
        }
      ],
      "source": [
        "print(top_countries_df)"
      ]
    },
    {
      "cell_type": "code",
      "execution_count": 309,
      "metadata": {},
      "outputs": [
        {
          "data": {
            "application/vnd.plotly.v1+json": {
              "config": {
                "plotlyServerURL": "https://plot.ly"
              },
              "data": [
                {
                  "hovertemplate": "<b>%{label}</b><br>%{value:.2f} (%{percentParent:.2%})<extra></extra>",
                  "labels": [
                    "Australia",
                    "Canada",
                    "Global",
                    "United Kingdom",
                    "United States"
                  ],
                  "parents": [
                    "",
                    "",
                    "",
                    "",
                    ""
                  ],
                  "type": "sunburst",
                  "values": [
                    89.7536231884058,
                    89.59057971014492,
                    91.4836956521739,
                    88.72909090909091,
                    89.93490054249548
                  ]
                }
              ],
              "layout": {
                "margin": {
                  "b": 0,
                  "l": 0,
                  "r": 5,
                  "t": 50
                },
                "template": {
                  "data": {
                    "bar": [
                      {
                        "error_x": {
                          "color": "#2a3f5f"
                        },
                        "error_y": {
                          "color": "#2a3f5f"
                        },
                        "marker": {
                          "line": {
                            "color": "#E5ECF6",
                            "width": 0.5
                          },
                          "pattern": {
                            "fillmode": "overlay",
                            "size": 10,
                            "solidity": 0.2
                          }
                        },
                        "type": "bar"
                      }
                    ],
                    "barpolar": [
                      {
                        "marker": {
                          "line": {
                            "color": "#E5ECF6",
                            "width": 0.5
                          },
                          "pattern": {
                            "fillmode": "overlay",
                            "size": 10,
                            "solidity": 0.2
                          }
                        },
                        "type": "barpolar"
                      }
                    ],
                    "carpet": [
                      {
                        "aaxis": {
                          "endlinecolor": "#2a3f5f",
                          "gridcolor": "white",
                          "linecolor": "white",
                          "minorgridcolor": "white",
                          "startlinecolor": "#2a3f5f"
                        },
                        "baxis": {
                          "endlinecolor": "#2a3f5f",
                          "gridcolor": "white",
                          "linecolor": "white",
                          "minorgridcolor": "white",
                          "startlinecolor": "#2a3f5f"
                        },
                        "type": "carpet"
                      }
                    ],
                    "choropleth": [
                      {
                        "colorbar": {
                          "outlinewidth": 0,
                          "ticks": ""
                        },
                        "type": "choropleth"
                      }
                    ],
                    "contour": [
                      {
                        "colorbar": {
                          "outlinewidth": 0,
                          "ticks": ""
                        },
                        "colorscale": [
                          [
                            0,
                            "#0d0887"
                          ],
                          [
                            0.1111111111111111,
                            "#46039f"
                          ],
                          [
                            0.2222222222222222,
                            "#7201a8"
                          ],
                          [
                            0.3333333333333333,
                            "#9c179e"
                          ],
                          [
                            0.4444444444444444,
                            "#bd3786"
                          ],
                          [
                            0.5555555555555556,
                            "#d8576b"
                          ],
                          [
                            0.6666666666666666,
                            "#ed7953"
                          ],
                          [
                            0.7777777777777778,
                            "#fb9f3a"
                          ],
                          [
                            0.8888888888888888,
                            "#fdca26"
                          ],
                          [
                            1,
                            "#f0f921"
                          ]
                        ],
                        "type": "contour"
                      }
                    ],
                    "contourcarpet": [
                      {
                        "colorbar": {
                          "outlinewidth": 0,
                          "ticks": ""
                        },
                        "type": "contourcarpet"
                      }
                    ],
                    "heatmap": [
                      {
                        "colorbar": {
                          "outlinewidth": 0,
                          "ticks": ""
                        },
                        "colorscale": [
                          [
                            0,
                            "#0d0887"
                          ],
                          [
                            0.1111111111111111,
                            "#46039f"
                          ],
                          [
                            0.2222222222222222,
                            "#7201a8"
                          ],
                          [
                            0.3333333333333333,
                            "#9c179e"
                          ],
                          [
                            0.4444444444444444,
                            "#bd3786"
                          ],
                          [
                            0.5555555555555556,
                            "#d8576b"
                          ],
                          [
                            0.6666666666666666,
                            "#ed7953"
                          ],
                          [
                            0.7777777777777778,
                            "#fb9f3a"
                          ],
                          [
                            0.8888888888888888,
                            "#fdca26"
                          ],
                          [
                            1,
                            "#f0f921"
                          ]
                        ],
                        "type": "heatmap"
                      }
                    ],
                    "heatmapgl": [
                      {
                        "colorbar": {
                          "outlinewidth": 0,
                          "ticks": ""
                        },
                        "colorscale": [
                          [
                            0,
                            "#0d0887"
                          ],
                          [
                            0.1111111111111111,
                            "#46039f"
                          ],
                          [
                            0.2222222222222222,
                            "#7201a8"
                          ],
                          [
                            0.3333333333333333,
                            "#9c179e"
                          ],
                          [
                            0.4444444444444444,
                            "#bd3786"
                          ],
                          [
                            0.5555555555555556,
                            "#d8576b"
                          ],
                          [
                            0.6666666666666666,
                            "#ed7953"
                          ],
                          [
                            0.7777777777777778,
                            "#fb9f3a"
                          ],
                          [
                            0.8888888888888888,
                            "#fdca26"
                          ],
                          [
                            1,
                            "#f0f921"
                          ]
                        ],
                        "type": "heatmapgl"
                      }
                    ],
                    "histogram": [
                      {
                        "marker": {
                          "pattern": {
                            "fillmode": "overlay",
                            "size": 10,
                            "solidity": 0.2
                          }
                        },
                        "type": "histogram"
                      }
                    ],
                    "histogram2d": [
                      {
                        "colorbar": {
                          "outlinewidth": 0,
                          "ticks": ""
                        },
                        "colorscale": [
                          [
                            0,
                            "#0d0887"
                          ],
                          [
                            0.1111111111111111,
                            "#46039f"
                          ],
                          [
                            0.2222222222222222,
                            "#7201a8"
                          ],
                          [
                            0.3333333333333333,
                            "#9c179e"
                          ],
                          [
                            0.4444444444444444,
                            "#bd3786"
                          ],
                          [
                            0.5555555555555556,
                            "#d8576b"
                          ],
                          [
                            0.6666666666666666,
                            "#ed7953"
                          ],
                          [
                            0.7777777777777778,
                            "#fb9f3a"
                          ],
                          [
                            0.8888888888888888,
                            "#fdca26"
                          ],
                          [
                            1,
                            "#f0f921"
                          ]
                        ],
                        "type": "histogram2d"
                      }
                    ],
                    "histogram2dcontour": [
                      {
                        "colorbar": {
                          "outlinewidth": 0,
                          "ticks": ""
                        },
                        "colorscale": [
                          [
                            0,
                            "#0d0887"
                          ],
                          [
                            0.1111111111111111,
                            "#46039f"
                          ],
                          [
                            0.2222222222222222,
                            "#7201a8"
                          ],
                          [
                            0.3333333333333333,
                            "#9c179e"
                          ],
                          [
                            0.4444444444444444,
                            "#bd3786"
                          ],
                          [
                            0.5555555555555556,
                            "#d8576b"
                          ],
                          [
                            0.6666666666666666,
                            "#ed7953"
                          ],
                          [
                            0.7777777777777778,
                            "#fb9f3a"
                          ],
                          [
                            0.8888888888888888,
                            "#fdca26"
                          ],
                          [
                            1,
                            "#f0f921"
                          ]
                        ],
                        "type": "histogram2dcontour"
                      }
                    ],
                    "mesh3d": [
                      {
                        "colorbar": {
                          "outlinewidth": 0,
                          "ticks": ""
                        },
                        "type": "mesh3d"
                      }
                    ],
                    "parcoords": [
                      {
                        "line": {
                          "colorbar": {
                            "outlinewidth": 0,
                            "ticks": ""
                          }
                        },
                        "type": "parcoords"
                      }
                    ],
                    "pie": [
                      {
                        "automargin": true,
                        "type": "pie"
                      }
                    ],
                    "scatter": [
                      {
                        "fillpattern": {
                          "fillmode": "overlay",
                          "size": 10,
                          "solidity": 0.2
                        },
                        "type": "scatter"
                      }
                    ],
                    "scatter3d": [
                      {
                        "line": {
                          "colorbar": {
                            "outlinewidth": 0,
                            "ticks": ""
                          }
                        },
                        "marker": {
                          "colorbar": {
                            "outlinewidth": 0,
                            "ticks": ""
                          }
                        },
                        "type": "scatter3d"
                      }
                    ],
                    "scattercarpet": [
                      {
                        "marker": {
                          "colorbar": {
                            "outlinewidth": 0,
                            "ticks": ""
                          }
                        },
                        "type": "scattercarpet"
                      }
                    ],
                    "scattergeo": [
                      {
                        "marker": {
                          "colorbar": {
                            "outlinewidth": 0,
                            "ticks": ""
                          }
                        },
                        "type": "scattergeo"
                      }
                    ],
                    "scattergl": [
                      {
                        "marker": {
                          "colorbar": {
                            "outlinewidth": 0,
                            "ticks": ""
                          }
                        },
                        "type": "scattergl"
                      }
                    ],
                    "scattermapbox": [
                      {
                        "marker": {
                          "colorbar": {
                            "outlinewidth": 0,
                            "ticks": ""
                          }
                        },
                        "type": "scattermapbox"
                      }
                    ],
                    "scatterpolar": [
                      {
                        "marker": {
                          "colorbar": {
                            "outlinewidth": 0,
                            "ticks": ""
                          }
                        },
                        "type": "scatterpolar"
                      }
                    ],
                    "scatterpolargl": [
                      {
                        "marker": {
                          "colorbar": {
                            "outlinewidth": 0,
                            "ticks": ""
                          }
                        },
                        "type": "scatterpolargl"
                      }
                    ],
                    "scatterternary": [
                      {
                        "marker": {
                          "colorbar": {
                            "outlinewidth": 0,
                            "ticks": ""
                          }
                        },
                        "type": "scatterternary"
                      }
                    ],
                    "surface": [
                      {
                        "colorbar": {
                          "outlinewidth": 0,
                          "ticks": ""
                        },
                        "colorscale": [
                          [
                            0,
                            "#0d0887"
                          ],
                          [
                            0.1111111111111111,
                            "#46039f"
                          ],
                          [
                            0.2222222222222222,
                            "#7201a8"
                          ],
                          [
                            0.3333333333333333,
                            "#9c179e"
                          ],
                          [
                            0.4444444444444444,
                            "#bd3786"
                          ],
                          [
                            0.5555555555555556,
                            "#d8576b"
                          ],
                          [
                            0.6666666666666666,
                            "#ed7953"
                          ],
                          [
                            0.7777777777777778,
                            "#fb9f3a"
                          ],
                          [
                            0.8888888888888888,
                            "#fdca26"
                          ],
                          [
                            1,
                            "#f0f921"
                          ]
                        ],
                        "type": "surface"
                      }
                    ],
                    "table": [
                      {
                        "cells": {
                          "fill": {
                            "color": "#EBF0F8"
                          },
                          "line": {
                            "color": "white"
                          }
                        },
                        "header": {
                          "fill": {
                            "color": "#C8D4E3"
                          },
                          "line": {
                            "color": "white"
                          }
                        },
                        "type": "table"
                      }
                    ]
                  },
                  "layout": {
                    "annotationdefaults": {
                      "arrowcolor": "#2a3f5f",
                      "arrowhead": 0,
                      "arrowwidth": 1
                    },
                    "autotypenumbers": "strict",
                    "coloraxis": {
                      "colorbar": {
                        "outlinewidth": 0,
                        "ticks": ""
                      }
                    },
                    "colorscale": {
                      "diverging": [
                        [
                          0,
                          "#8e0152"
                        ],
                        [
                          0.1,
                          "#c51b7d"
                        ],
                        [
                          0.2,
                          "#de77ae"
                        ],
                        [
                          0.3,
                          "#f1b6da"
                        ],
                        [
                          0.4,
                          "#fde0ef"
                        ],
                        [
                          0.5,
                          "#f7f7f7"
                        ],
                        [
                          0.6,
                          "#e6f5d0"
                        ],
                        [
                          0.7,
                          "#b8e186"
                        ],
                        [
                          0.8,
                          "#7fbc41"
                        ],
                        [
                          0.9,
                          "#4d9221"
                        ],
                        [
                          1,
                          "#276419"
                        ]
                      ],
                      "sequential": [
                        [
                          0,
                          "#0d0887"
                        ],
                        [
                          0.1111111111111111,
                          "#46039f"
                        ],
                        [
                          0.2222222222222222,
                          "#7201a8"
                        ],
                        [
                          0.3333333333333333,
                          "#9c179e"
                        ],
                        [
                          0.4444444444444444,
                          "#bd3786"
                        ],
                        [
                          0.5555555555555556,
                          "#d8576b"
                        ],
                        [
                          0.6666666666666666,
                          "#ed7953"
                        ],
                        [
                          0.7777777777777778,
                          "#fb9f3a"
                        ],
                        [
                          0.8888888888888888,
                          "#fdca26"
                        ],
                        [
                          1,
                          "#f0f921"
                        ]
                      ],
                      "sequentialminus": [
                        [
                          0,
                          "#0d0887"
                        ],
                        [
                          0.1111111111111111,
                          "#46039f"
                        ],
                        [
                          0.2222222222222222,
                          "#7201a8"
                        ],
                        [
                          0.3333333333333333,
                          "#9c179e"
                        ],
                        [
                          0.4444444444444444,
                          "#bd3786"
                        ],
                        [
                          0.5555555555555556,
                          "#d8576b"
                        ],
                        [
                          0.6666666666666666,
                          "#ed7953"
                        ],
                        [
                          0.7777777777777778,
                          "#fb9f3a"
                        ],
                        [
                          0.8888888888888888,
                          "#fdca26"
                        ],
                        [
                          1,
                          "#f0f921"
                        ]
                      ]
                    },
                    "colorway": [
                      "#636efa",
                      "#EF553B",
                      "#00cc96",
                      "#ab63fa",
                      "#FFA15A",
                      "#19d3f3",
                      "#FF6692",
                      "#B6E880",
                      "#FF97FF",
                      "#FECB52"
                    ],
                    "font": {
                      "color": "#2a3f5f"
                    },
                    "geo": {
                      "bgcolor": "white",
                      "lakecolor": "white",
                      "landcolor": "#E5ECF6",
                      "showlakes": true,
                      "showland": true,
                      "subunitcolor": "white"
                    },
                    "hoverlabel": {
                      "align": "left"
                    },
                    "hovermode": "closest",
                    "mapbox": {
                      "style": "light"
                    },
                    "paper_bgcolor": "white",
                    "plot_bgcolor": "#E5ECF6",
                    "polar": {
                      "angularaxis": {
                        "gridcolor": "white",
                        "linecolor": "white",
                        "ticks": ""
                      },
                      "bgcolor": "#E5ECF6",
                      "radialaxis": {
                        "gridcolor": "white",
                        "linecolor": "white",
                        "ticks": ""
                      }
                    },
                    "scene": {
                      "xaxis": {
                        "backgroundcolor": "#E5ECF6",
                        "gridcolor": "white",
                        "gridwidth": 2,
                        "linecolor": "white",
                        "showbackground": true,
                        "ticks": "",
                        "zerolinecolor": "white"
                      },
                      "yaxis": {
                        "backgroundcolor": "#E5ECF6",
                        "gridcolor": "white",
                        "gridwidth": 2,
                        "linecolor": "white",
                        "showbackground": true,
                        "ticks": "",
                        "zerolinecolor": "white"
                      },
                      "zaxis": {
                        "backgroundcolor": "#E5ECF6",
                        "gridcolor": "white",
                        "gridwidth": 2,
                        "linecolor": "white",
                        "showbackground": true,
                        "ticks": "",
                        "zerolinecolor": "white"
                      }
                    },
                    "shapedefaults": {
                      "line": {
                        "color": "#2a3f5f"
                      }
                    },
                    "ternary": {
                      "aaxis": {
                        "gridcolor": "white",
                        "linecolor": "white",
                        "ticks": ""
                      },
                      "baxis": {
                        "gridcolor": "white",
                        "linecolor": "white",
                        "ticks": ""
                      },
                      "bgcolor": "#E5ECF6",
                      "caxis": {
                        "gridcolor": "white",
                        "linecolor": "white",
                        "ticks": ""
                      }
                    },
                    "title": {
                      "x": 0.05
                    },
                    "xaxis": {
                      "automargin": true,
                      "gridcolor": "white",
                      "linecolor": "white",
                      "ticks": "",
                      "title": {
                        "standoff": 15
                      },
                      "zerolinecolor": "white",
                      "zerolinewidth": 2
                    },
                    "yaxis": {
                      "automargin": true,
                      "gridcolor": "white",
                      "linecolor": "white",
                      "ticks": "",
                      "title": {
                        "standoff": 15
                      },
                      "zerolinecolor": "white",
                      "zerolinewidth": 2
                    }
                  }
                },
                "title": {
                  "text": "Characteristics of Music Liked by Top 5 Most listening countries"
                },
                "updatemenus": [
                  {
                    "active": 0,
                    "buttons": [
                      {
                        "args": [
                          {
                            "values": [
                              [
                                0.6427065217391305,
                                0.6440235507246377,
                                0.6684637681159421,
                                0.6294836363636364,
                                0.6435660036166365
                              ]
                            ]
                          }
                        ],
                        "label": "Danceability",
                        "method": "restyle"
                      },
                      {
                        "args": [
                          {
                            "values": [
                              [
                                0.6445273550724638,
                                0.6110925724637681,
                                0.6447211956521739,
                                0.6702983636363636,
                                0.6187849909584087
                              ]
                            ]
                          }
                        ],
                        "label": "Energy",
                        "method": "restyle"
                      },
                      {
                        "args": [
                          {
                            "values": [
                              [
                                -6.779313405797102,
                                -6.938590579710144,
                                -6.491061594202899,
                                -6.608892727272727,
                                -6.759929475587703
                              ]
                            ]
                          }
                        ],
                        "label": "Loudness",
                        "method": "restyle"
                      },
                      {
                        "args": [
                          {
                            "values": [
                              [
                                0.088580615942029,
                                0.09360942028985508,
                                0.10225326086956522,
                                0.09897454545454545,
                                0.10381464737793852
                              ]
                            ]
                          }
                        ],
                        "label": "Speechiness",
                        "method": "restyle"
                      },
                      {
                        "args": [
                          {
                            "values": [
                              [
                                5.11231884057971,
                                5.693840579710145,
                                5.3731884057971016,
                                4.621818181818182,
                                5.5768535262206145
                              ]
                            ]
                          }
                        ],
                        "label": "Key",
                        "method": "restyle"
                      },
                      {
                        "args": [
                          {
                            "values": [
                              [
                                0.6884057971014492,
                                0.5706521739130435,
                                0.5489130434782609,
                                0.6090909090909091,
                                0.566003616636528
                              ]
                            ]
                          }
                        ],
                        "label": "Mode",
                        "method": "restyle"
                      },
                      {
                        "args": [
                          {
                            "values": [
                              [
                                0.2557971195652174,
                                0.2763627166666667,
                                0.28427342391304344,
                                0.2540648774545454,
                                0.27524492620253166
                              ]
                            ]
                          }
                        ],
                        "label": "Acousticness",
                        "method": "restyle"
                      },
                      {
                        "args": [
                          {
                            "values": [
                              [
                                0.007676356376811594,
                                0.006293274094202899,
                                0.012371834402173914,
                                0.014086700654545455,
                                0.006998422549728752
                              ]
                            ]
                          }
                        ],
                        "label": "Instrumentalness",
                        "method": "restyle"
                      },
                      {
                        "args": [
                          {
                            "values": [
                              [
                                0.1845032608695652,
                                0.18470978260869567,
                                0.16822373188405795,
                                0.1737798181818182,
                                0.19389421338155516
                              ]
                            ]
                          }
                        ],
                        "label": "Liveness",
                        "method": "restyle"
                      },
                      {
                        "args": [
                          {
                            "values": [
                              [
                                0.5137244565217391,
                                0.4636972826086957,
                                0.49738985507246375,
                                0.4863527272727273,
                                0.45669023508137435
                              ]
                            ]
                          }
                        ],
                        "label": "Valence",
                        "method": "restyle"
                      },
                      {
                        "args": [
                          {
                            "values": [
                              [
                                124.25202717391305,
                                123.9643170289855,
                                119.85826086956521,
                                122.8713181818182,
                                124.28938155515372
                              ]
                            ]
                          }
                        ],
                        "label": "Tempo",
                        "method": "restyle"
                      }
                    ],
                    "direction": "down",
                    "x": 1,
                    "y": 1
                  }
                ]
              }
            }
          },
          "metadata": {},
          "output_type": "display_data"
        }
      ],
      "source": [
        "from plotly.subplots import make_subplots\n",
        "# Create the initial sunburst plot\n",
        "fig = go.Figure(go.Sunburst(\n",
        "    labels=top_countries_df[\"country_name\"],\n",
        "    parents=[''] * len(top_countries_df['country_name']),\n",
        "    values=top_countries_df['popularity'],\n",
        "    hovertemplate='<b>%{label}</b><br>%{value:.2f} (%{percentParent:.2%})<extra></extra>'\n",
        "))\n",
        "# Define available attributes\n",
        "attributes = ['danceability', 'energy', 'loudness', 'speechiness', 'key', 'mode', 'acousticness', 'instrumentalness', 'liveness', 'valence', 'tempo']\n",
        "# Create the dropdown menu\n",
        "buttons = []\n",
        "for attribute in attributes:\n",
        "    buttons.append(dict(\n",
        "        method='restyle',\n",
        "        args=[{'values': [top_countries_df[attribute]]}],\n",
        "        label=attribute.capitalize()\n",
        "    ))\n",
        "fig.update_layout(\n",
        "    updatemenus=[\n",
        "        dict(\n",
        "            buttons=buttons,\n",
        "            direction='down',\n",
        "            active=0,\n",
        "            x=1.0,\n",
        "            y=1.0\n",
        "        ),\n",
        "    ],\n",
        "    title='Characteristics of Music Liked by Top 5 Most listening countries',\n",
        "    margin=dict(t=50, l=0, r=5, b=0)\n",
        ")\n",
        "\n",
        "fig.show()"
      ]
    },
    {
      "cell_type": "markdown",
      "metadata": {},
      "source": [
        "### Q4. What are the characteristics of music liked by top 5 most listening continents?"
      ]
    },
    {
      "cell_type": "code",
      "execution_count": 310,
      "metadata": {},
      "outputs": [
        {
          "name": "stdout",
          "output_type": "stream",
          "text": [
            "       continent  popularity  danceability    energy  loudness  speechiness  \\\n",
            "0         Africa   65.868719      0.727128  0.636008 -7.818064     0.128457   \n",
            "1           Asia   76.939213      0.641635  0.609921 -7.094682     0.077633   \n",
            "2      Australia   88.485041      0.647714  0.646823 -6.717267     0.090768   \n",
            "3         Europe   74.737859      0.687536  0.646758 -6.992627     0.118411   \n",
            "4         Global   91.483696      0.668464  0.644721 -6.491062     0.102253   \n",
            "5  North America   87.243302      0.724935  0.667067 -5.648808     0.129768   \n",
            "6  South America   85.560436      0.743896  0.685496 -5.323093     0.122962   \n",
            "\n",
            "        key      mode  acousticness  instrumentalness  liveness   valence  \\\n",
            "0  5.742417  0.387053      0.294682          0.029044  0.154978  0.577856   \n",
            "1  5.489282  0.583662      0.345011          0.019343  0.167037  0.496827   \n",
            "2  5.133273  0.672711      0.240193          0.007005  0.172057  0.525167   \n",
            "3  5.457599  0.435204      0.269568          0.022413  0.170663  0.518607   \n",
            "4  5.373188  0.548913      0.284273          0.012372  0.168224  0.497390   \n",
            "5  5.669442  0.483345      0.279252          0.013748  0.171278  0.532752   \n",
            "6  5.720327  0.485299      0.276805          0.010408  0.194653  0.596172   \n",
            "\n",
            "        tempo  \n",
            "0  117.680520  \n",
            "1  121.069003  \n",
            "2  124.003442  \n",
            "3  123.633908  \n",
            "4  119.858261  \n",
            "5  123.468313  \n",
            "6  119.848222  \n"
          ]
        }
      ],
      "source": [
        "# Group the DataFrame by the unique values in \"continent\" and calculate the mean values for selected columns.\n",
        "mean = df.groupby(\"continent\")[['popularity', 'danceability', 'energy', 'loudness', 'speechiness', 'key', 'mode', 'acousticness', 'instrumentalness', 'liveness', 'valence', 'tempo']].mean().reset_index()\n",
        "\n",
        "# Print or display the resulting DataFrame with mean values\n",
        "print(mean)\n"
      ]
    },
    {
      "cell_type": "code",
      "execution_count": 311,
      "metadata": {},
      "outputs": [],
      "source": [
        "top_continent = mean.nlargest(5, 'popularity')['continent']\n",
        "top_continent_df = mean[mean['continent'].isin(top_continent)].copy()"
      ]
    },
    {
      "cell_type": "code",
      "execution_count": 312,
      "metadata": {},
      "outputs": [
        {
          "data": {
            "application/vnd.plotly.v1+json": {
              "config": {
                "plotlyServerURL": "https://plot.ly"
              },
              "data": [
                {
                  "hovertemplate": "<b>%{label}</b><br>%{value:.2f} (%{percentParent:.2%})<extra></extra>",
                  "labels": [
                    "Asia",
                    "Australia",
                    "Global",
                    "North America",
                    "South America"
                  ],
                  "parents": [
                    "",
                    "",
                    "",
                    "",
                    ""
                  ],
                  "type": "sunburst",
                  "values": [
                    76.93921296790018,
                    88.48504079782411,
                    91.4836956521739,
                    87.243301955105,
                    85.56043557168785
                  ]
                }
              ],
              "layout": {
                "margin": {
                  "b": 0,
                  "l": 0,
                  "r": 5,
                  "t": 50
                },
                "template": {
                  "data": {
                    "bar": [
                      {
                        "error_x": {
                          "color": "#2a3f5f"
                        },
                        "error_y": {
                          "color": "#2a3f5f"
                        },
                        "marker": {
                          "line": {
                            "color": "#E5ECF6",
                            "width": 0.5
                          },
                          "pattern": {
                            "fillmode": "overlay",
                            "size": 10,
                            "solidity": 0.2
                          }
                        },
                        "type": "bar"
                      }
                    ],
                    "barpolar": [
                      {
                        "marker": {
                          "line": {
                            "color": "#E5ECF6",
                            "width": 0.5
                          },
                          "pattern": {
                            "fillmode": "overlay",
                            "size": 10,
                            "solidity": 0.2
                          }
                        },
                        "type": "barpolar"
                      }
                    ],
                    "carpet": [
                      {
                        "aaxis": {
                          "endlinecolor": "#2a3f5f",
                          "gridcolor": "white",
                          "linecolor": "white",
                          "minorgridcolor": "white",
                          "startlinecolor": "#2a3f5f"
                        },
                        "baxis": {
                          "endlinecolor": "#2a3f5f",
                          "gridcolor": "white",
                          "linecolor": "white",
                          "minorgridcolor": "white",
                          "startlinecolor": "#2a3f5f"
                        },
                        "type": "carpet"
                      }
                    ],
                    "choropleth": [
                      {
                        "colorbar": {
                          "outlinewidth": 0,
                          "ticks": ""
                        },
                        "type": "choropleth"
                      }
                    ],
                    "contour": [
                      {
                        "colorbar": {
                          "outlinewidth": 0,
                          "ticks": ""
                        },
                        "colorscale": [
                          [
                            0,
                            "#0d0887"
                          ],
                          [
                            0.1111111111111111,
                            "#46039f"
                          ],
                          [
                            0.2222222222222222,
                            "#7201a8"
                          ],
                          [
                            0.3333333333333333,
                            "#9c179e"
                          ],
                          [
                            0.4444444444444444,
                            "#bd3786"
                          ],
                          [
                            0.5555555555555556,
                            "#d8576b"
                          ],
                          [
                            0.6666666666666666,
                            "#ed7953"
                          ],
                          [
                            0.7777777777777778,
                            "#fb9f3a"
                          ],
                          [
                            0.8888888888888888,
                            "#fdca26"
                          ],
                          [
                            1,
                            "#f0f921"
                          ]
                        ],
                        "type": "contour"
                      }
                    ],
                    "contourcarpet": [
                      {
                        "colorbar": {
                          "outlinewidth": 0,
                          "ticks": ""
                        },
                        "type": "contourcarpet"
                      }
                    ],
                    "heatmap": [
                      {
                        "colorbar": {
                          "outlinewidth": 0,
                          "ticks": ""
                        },
                        "colorscale": [
                          [
                            0,
                            "#0d0887"
                          ],
                          [
                            0.1111111111111111,
                            "#46039f"
                          ],
                          [
                            0.2222222222222222,
                            "#7201a8"
                          ],
                          [
                            0.3333333333333333,
                            "#9c179e"
                          ],
                          [
                            0.4444444444444444,
                            "#bd3786"
                          ],
                          [
                            0.5555555555555556,
                            "#d8576b"
                          ],
                          [
                            0.6666666666666666,
                            "#ed7953"
                          ],
                          [
                            0.7777777777777778,
                            "#fb9f3a"
                          ],
                          [
                            0.8888888888888888,
                            "#fdca26"
                          ],
                          [
                            1,
                            "#f0f921"
                          ]
                        ],
                        "type": "heatmap"
                      }
                    ],
                    "heatmapgl": [
                      {
                        "colorbar": {
                          "outlinewidth": 0,
                          "ticks": ""
                        },
                        "colorscale": [
                          [
                            0,
                            "#0d0887"
                          ],
                          [
                            0.1111111111111111,
                            "#46039f"
                          ],
                          [
                            0.2222222222222222,
                            "#7201a8"
                          ],
                          [
                            0.3333333333333333,
                            "#9c179e"
                          ],
                          [
                            0.4444444444444444,
                            "#bd3786"
                          ],
                          [
                            0.5555555555555556,
                            "#d8576b"
                          ],
                          [
                            0.6666666666666666,
                            "#ed7953"
                          ],
                          [
                            0.7777777777777778,
                            "#fb9f3a"
                          ],
                          [
                            0.8888888888888888,
                            "#fdca26"
                          ],
                          [
                            1,
                            "#f0f921"
                          ]
                        ],
                        "type": "heatmapgl"
                      }
                    ],
                    "histogram": [
                      {
                        "marker": {
                          "pattern": {
                            "fillmode": "overlay",
                            "size": 10,
                            "solidity": 0.2
                          }
                        },
                        "type": "histogram"
                      }
                    ],
                    "histogram2d": [
                      {
                        "colorbar": {
                          "outlinewidth": 0,
                          "ticks": ""
                        },
                        "colorscale": [
                          [
                            0,
                            "#0d0887"
                          ],
                          [
                            0.1111111111111111,
                            "#46039f"
                          ],
                          [
                            0.2222222222222222,
                            "#7201a8"
                          ],
                          [
                            0.3333333333333333,
                            "#9c179e"
                          ],
                          [
                            0.4444444444444444,
                            "#bd3786"
                          ],
                          [
                            0.5555555555555556,
                            "#d8576b"
                          ],
                          [
                            0.6666666666666666,
                            "#ed7953"
                          ],
                          [
                            0.7777777777777778,
                            "#fb9f3a"
                          ],
                          [
                            0.8888888888888888,
                            "#fdca26"
                          ],
                          [
                            1,
                            "#f0f921"
                          ]
                        ],
                        "type": "histogram2d"
                      }
                    ],
                    "histogram2dcontour": [
                      {
                        "colorbar": {
                          "outlinewidth": 0,
                          "ticks": ""
                        },
                        "colorscale": [
                          [
                            0,
                            "#0d0887"
                          ],
                          [
                            0.1111111111111111,
                            "#46039f"
                          ],
                          [
                            0.2222222222222222,
                            "#7201a8"
                          ],
                          [
                            0.3333333333333333,
                            "#9c179e"
                          ],
                          [
                            0.4444444444444444,
                            "#bd3786"
                          ],
                          [
                            0.5555555555555556,
                            "#d8576b"
                          ],
                          [
                            0.6666666666666666,
                            "#ed7953"
                          ],
                          [
                            0.7777777777777778,
                            "#fb9f3a"
                          ],
                          [
                            0.8888888888888888,
                            "#fdca26"
                          ],
                          [
                            1,
                            "#f0f921"
                          ]
                        ],
                        "type": "histogram2dcontour"
                      }
                    ],
                    "mesh3d": [
                      {
                        "colorbar": {
                          "outlinewidth": 0,
                          "ticks": ""
                        },
                        "type": "mesh3d"
                      }
                    ],
                    "parcoords": [
                      {
                        "line": {
                          "colorbar": {
                            "outlinewidth": 0,
                            "ticks": ""
                          }
                        },
                        "type": "parcoords"
                      }
                    ],
                    "pie": [
                      {
                        "automargin": true,
                        "type": "pie"
                      }
                    ],
                    "scatter": [
                      {
                        "fillpattern": {
                          "fillmode": "overlay",
                          "size": 10,
                          "solidity": 0.2
                        },
                        "type": "scatter"
                      }
                    ],
                    "scatter3d": [
                      {
                        "line": {
                          "colorbar": {
                            "outlinewidth": 0,
                            "ticks": ""
                          }
                        },
                        "marker": {
                          "colorbar": {
                            "outlinewidth": 0,
                            "ticks": ""
                          }
                        },
                        "type": "scatter3d"
                      }
                    ],
                    "scattercarpet": [
                      {
                        "marker": {
                          "colorbar": {
                            "outlinewidth": 0,
                            "ticks": ""
                          }
                        },
                        "type": "scattercarpet"
                      }
                    ],
                    "scattergeo": [
                      {
                        "marker": {
                          "colorbar": {
                            "outlinewidth": 0,
                            "ticks": ""
                          }
                        },
                        "type": "scattergeo"
                      }
                    ],
                    "scattergl": [
                      {
                        "marker": {
                          "colorbar": {
                            "outlinewidth": 0,
                            "ticks": ""
                          }
                        },
                        "type": "scattergl"
                      }
                    ],
                    "scattermapbox": [
                      {
                        "marker": {
                          "colorbar": {
                            "outlinewidth": 0,
                            "ticks": ""
                          }
                        },
                        "type": "scattermapbox"
                      }
                    ],
                    "scatterpolar": [
                      {
                        "marker": {
                          "colorbar": {
                            "outlinewidth": 0,
                            "ticks": ""
                          }
                        },
                        "type": "scatterpolar"
                      }
                    ],
                    "scatterpolargl": [
                      {
                        "marker": {
                          "colorbar": {
                            "outlinewidth": 0,
                            "ticks": ""
                          }
                        },
                        "type": "scatterpolargl"
                      }
                    ],
                    "scatterternary": [
                      {
                        "marker": {
                          "colorbar": {
                            "outlinewidth": 0,
                            "ticks": ""
                          }
                        },
                        "type": "scatterternary"
                      }
                    ],
                    "surface": [
                      {
                        "colorbar": {
                          "outlinewidth": 0,
                          "ticks": ""
                        },
                        "colorscale": [
                          [
                            0,
                            "#0d0887"
                          ],
                          [
                            0.1111111111111111,
                            "#46039f"
                          ],
                          [
                            0.2222222222222222,
                            "#7201a8"
                          ],
                          [
                            0.3333333333333333,
                            "#9c179e"
                          ],
                          [
                            0.4444444444444444,
                            "#bd3786"
                          ],
                          [
                            0.5555555555555556,
                            "#d8576b"
                          ],
                          [
                            0.6666666666666666,
                            "#ed7953"
                          ],
                          [
                            0.7777777777777778,
                            "#fb9f3a"
                          ],
                          [
                            0.8888888888888888,
                            "#fdca26"
                          ],
                          [
                            1,
                            "#f0f921"
                          ]
                        ],
                        "type": "surface"
                      }
                    ],
                    "table": [
                      {
                        "cells": {
                          "fill": {
                            "color": "#EBF0F8"
                          },
                          "line": {
                            "color": "white"
                          }
                        },
                        "header": {
                          "fill": {
                            "color": "#C8D4E3"
                          },
                          "line": {
                            "color": "white"
                          }
                        },
                        "type": "table"
                      }
                    ]
                  },
                  "layout": {
                    "annotationdefaults": {
                      "arrowcolor": "#2a3f5f",
                      "arrowhead": 0,
                      "arrowwidth": 1
                    },
                    "autotypenumbers": "strict",
                    "coloraxis": {
                      "colorbar": {
                        "outlinewidth": 0,
                        "ticks": ""
                      }
                    },
                    "colorscale": {
                      "diverging": [
                        [
                          0,
                          "#8e0152"
                        ],
                        [
                          0.1,
                          "#c51b7d"
                        ],
                        [
                          0.2,
                          "#de77ae"
                        ],
                        [
                          0.3,
                          "#f1b6da"
                        ],
                        [
                          0.4,
                          "#fde0ef"
                        ],
                        [
                          0.5,
                          "#f7f7f7"
                        ],
                        [
                          0.6,
                          "#e6f5d0"
                        ],
                        [
                          0.7,
                          "#b8e186"
                        ],
                        [
                          0.8,
                          "#7fbc41"
                        ],
                        [
                          0.9,
                          "#4d9221"
                        ],
                        [
                          1,
                          "#276419"
                        ]
                      ],
                      "sequential": [
                        [
                          0,
                          "#0d0887"
                        ],
                        [
                          0.1111111111111111,
                          "#46039f"
                        ],
                        [
                          0.2222222222222222,
                          "#7201a8"
                        ],
                        [
                          0.3333333333333333,
                          "#9c179e"
                        ],
                        [
                          0.4444444444444444,
                          "#bd3786"
                        ],
                        [
                          0.5555555555555556,
                          "#d8576b"
                        ],
                        [
                          0.6666666666666666,
                          "#ed7953"
                        ],
                        [
                          0.7777777777777778,
                          "#fb9f3a"
                        ],
                        [
                          0.8888888888888888,
                          "#fdca26"
                        ],
                        [
                          1,
                          "#f0f921"
                        ]
                      ],
                      "sequentialminus": [
                        [
                          0,
                          "#0d0887"
                        ],
                        [
                          0.1111111111111111,
                          "#46039f"
                        ],
                        [
                          0.2222222222222222,
                          "#7201a8"
                        ],
                        [
                          0.3333333333333333,
                          "#9c179e"
                        ],
                        [
                          0.4444444444444444,
                          "#bd3786"
                        ],
                        [
                          0.5555555555555556,
                          "#d8576b"
                        ],
                        [
                          0.6666666666666666,
                          "#ed7953"
                        ],
                        [
                          0.7777777777777778,
                          "#fb9f3a"
                        ],
                        [
                          0.8888888888888888,
                          "#fdca26"
                        ],
                        [
                          1,
                          "#f0f921"
                        ]
                      ]
                    },
                    "colorway": [
                      "#636efa",
                      "#EF553B",
                      "#00cc96",
                      "#ab63fa",
                      "#FFA15A",
                      "#19d3f3",
                      "#FF6692",
                      "#B6E880",
                      "#FF97FF",
                      "#FECB52"
                    ],
                    "font": {
                      "color": "#2a3f5f"
                    },
                    "geo": {
                      "bgcolor": "white",
                      "lakecolor": "white",
                      "landcolor": "#E5ECF6",
                      "showlakes": true,
                      "showland": true,
                      "subunitcolor": "white"
                    },
                    "hoverlabel": {
                      "align": "left"
                    },
                    "hovermode": "closest",
                    "mapbox": {
                      "style": "light"
                    },
                    "paper_bgcolor": "white",
                    "plot_bgcolor": "#E5ECF6",
                    "polar": {
                      "angularaxis": {
                        "gridcolor": "white",
                        "linecolor": "white",
                        "ticks": ""
                      },
                      "bgcolor": "#E5ECF6",
                      "radialaxis": {
                        "gridcolor": "white",
                        "linecolor": "white",
                        "ticks": ""
                      }
                    },
                    "scene": {
                      "xaxis": {
                        "backgroundcolor": "#E5ECF6",
                        "gridcolor": "white",
                        "gridwidth": 2,
                        "linecolor": "white",
                        "showbackground": true,
                        "ticks": "",
                        "zerolinecolor": "white"
                      },
                      "yaxis": {
                        "backgroundcolor": "#E5ECF6",
                        "gridcolor": "white",
                        "gridwidth": 2,
                        "linecolor": "white",
                        "showbackground": true,
                        "ticks": "",
                        "zerolinecolor": "white"
                      },
                      "zaxis": {
                        "backgroundcolor": "#E5ECF6",
                        "gridcolor": "white",
                        "gridwidth": 2,
                        "linecolor": "white",
                        "showbackground": true,
                        "ticks": "",
                        "zerolinecolor": "white"
                      }
                    },
                    "shapedefaults": {
                      "line": {
                        "color": "#2a3f5f"
                      }
                    },
                    "ternary": {
                      "aaxis": {
                        "gridcolor": "white",
                        "linecolor": "white",
                        "ticks": ""
                      },
                      "baxis": {
                        "gridcolor": "white",
                        "linecolor": "white",
                        "ticks": ""
                      },
                      "bgcolor": "#E5ECF6",
                      "caxis": {
                        "gridcolor": "white",
                        "linecolor": "white",
                        "ticks": ""
                      }
                    },
                    "title": {
                      "x": 0.05
                    },
                    "xaxis": {
                      "automargin": true,
                      "gridcolor": "white",
                      "linecolor": "white",
                      "ticks": "",
                      "title": {
                        "standoff": 15
                      },
                      "zerolinecolor": "white",
                      "zerolinewidth": 2
                    },
                    "yaxis": {
                      "automargin": true,
                      "gridcolor": "white",
                      "linecolor": "white",
                      "ticks": "",
                      "title": {
                        "standoff": 15
                      },
                      "zerolinecolor": "white",
                      "zerolinewidth": 2
                    }
                  }
                },
                "title": {
                  "text": "Characteristics of Music Liked by Top 5 Most listening continent"
                },
                "updatemenus": [
                  {
                    "active": 0,
                    "buttons": [
                      {
                        "args": [
                          {
                            "values": [
                              [
                                0.6416350645195692,
                                0.647713508612874,
                                0.6684637681159421,
                                0.7249353729181752,
                                0.7438958257713248
                              ]
                            ]
                          }
                        ],
                        "label": "Danceability",
                        "method": "restyle"
                      },
                      {
                        "args": [
                          {
                            "values": [
                              [
                                0.6099205716113896,
                                0.6468233907524932,
                                0.6447211956521739,
                                0.6670666545981173,
                                0.6854961887477313
                              ]
                            ]
                          }
                        ],
                        "label": "Energy",
                        "method": "restyle"
                      },
                      {
                        "args": [
                          {
                            "values": [
                              [
                                -7.094681561266929,
                                -6.717267452402538,
                                -6.491061594202899,
                                -5.648807566980449,
                                -5.323092921960073
                              ]
                            ]
                          }
                        ],
                        "label": "Loudness",
                        "method": "restyle"
                      },
                      {
                        "args": [
                          {
                            "values": [
                              [
                                0.07763318758664818,
                                0.0907675430643699,
                                0.10225326086956522,
                                0.12976797610427226,
                                0.1229617604355717
                              ]
                            ]
                          }
                        ],
                        "label": "Speechiness",
                        "method": "restyle"
                      },
                      {
                        "args": [
                          {
                            "values": [
                              [
                                5.489282286445558,
                                5.133272892112421,
                                5.3731884057971016,
                                5.669442433019551,
                                5.72032667876588
                              ]
                            ]
                          }
                        ],
                        "label": "Key",
                        "method": "restyle"
                      },
                      {
                        "args": [
                          {
                            "values": [
                              [
                                0.5836621520742241,
                                0.6727107887579329,
                                0.5489130434782609,
                                0.4833454018826937,
                                0.4852994555353902
                              ]
                            ]
                          }
                        ],
                        "label": "Mode",
                        "method": "restyle"
                      },
                      {
                        "args": [
                          {
                            "values": [
                              [
                                0.3450114569371867,
                                0.2401933907524932,
                                0.28427342391304344,
                                0.27925184355358434,
                                0.27680517604355714
                              ]
                            ]
                          }
                        ],
                        "label": "Acousticness",
                        "method": "restyle"
                      },
                      {
                        "args": [
                          {
                            "values": [
                              [
                                0.01934273879492375,
                                0.007004705929283771,
                                0.012371834402173914,
                                0.013747754971035482,
                                0.010408352600725953
                              ]
                            ]
                          }
                        ],
                        "label": "Instrumentalness",
                        "method": "restyle"
                      },
                      {
                        "args": [
                          {
                            "values": [
                              [
                                0.16703715474032205,
                                0.17205720761559384,
                                0.16822373188405795,
                                0.17127822230267922,
                                0.19465326678765882
                              ]
                            ]
                          }
                        ],
                        "label": "Liveness",
                        "method": "restyle"
                      },
                      {
                        "args": [
                          {
                            "values": [
                              [
                                0.49682730084248694,
                                0.5251667271078876,
                                0.49738985507246375,
                                0.5327524438812455,
                                0.5961715063520872
                              ]
                            ]
                          }
                        ],
                        "label": "Valence",
                        "method": "restyle"
                      },
                      {
                        "args": [
                          {
                            "values": [
                              [
                                121.06900319931749,
                                124.00344242973708,
                                119.85826086956521,
                                123.46831263577118,
                                119.8482217785844
                              ]
                            ]
                          }
                        ],
                        "label": "Tempo",
                        "method": "restyle"
                      }
                    ],
                    "direction": "down",
                    "x": 1,
                    "y": 1
                  }
                ]
              }
            }
          },
          "metadata": {},
          "output_type": "display_data"
        }
      ],
      "source": [
        "fig = go.Figure(go.Sunburst(\n",
        "    labels=top_continent_df[\"continent\"],\n",
        "    parents=[''] * len(top_continent_df['continent']),\n",
        "    values=top_continent_df['popularity'],\n",
        "    hovertemplate='<b>%{label}</b><br>%{value:.2f} (%{percentParent:.2%})<extra></extra>'\n",
        "))\n",
        "# Define available attributes\n",
        "attributes = ['danceability', 'energy', 'loudness', 'speechiness', 'key', 'mode', 'acousticness', 'instrumentalness', 'liveness', 'valence', 'tempo']\n",
        "# Create the dropdown menu\n",
        "buttons = []\n",
        "for attribute in attributes:\n",
        "    buttons.append(dict(\n",
        "        method='restyle',\n",
        "        args=[{'values': [top_continent_df[attribute]]}],\n",
        "        label=attribute.capitalize()\n",
        "    ))\n",
        "fig.update_layout(\n",
        "    updatemenus=[\n",
        "        dict(\n",
        "            buttons=buttons,\n",
        "            direction='down',\n",
        "            active=0,\n",
        "            x=1.0,\n",
        "            y=1.0\n",
        "        ),\n",
        "    ],\n",
        "    title='Characteristics of Music Liked by Top 5 Most listening continent',\n",
        "    margin=dict(t=50, l=0, r=5, b=0)\n",
        ")\n",
        "\n",
        "fig.show()"
      ]
    }
  ],
  "metadata": {
    "colab": {
      "provenance": []
    },
    "kernelspec": {
      "display_name": "python_eda",
      "language": "python",
      "name": "python3"
    },
    "language_info": {
      "codemirror_mode": {
        "name": "ipython",
        "version": 3
      },
      "file_extension": ".py",
      "mimetype": "text/x-python",
      "name": "python",
      "nbconvert_exporter": "python",
      "pygments_lexer": "ipython3",
      "version": "3.11.5"
    }
  },
  "nbformat": 4,
  "nbformat_minor": 0
}
